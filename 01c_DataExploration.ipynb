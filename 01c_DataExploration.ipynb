{
 "cells": [
  {
   "cell_type": "code",
   "execution_count": 1,
   "metadata": {},
   "outputs": [
    {
     "name": "stderr",
     "output_type": "stream",
     "text": [
      "/Users/kendra/anaconda3/lib/python3.6/site-packages/sklearn/utils/fixes.py:313: FutureWarning: numpy not_equal will not check object identity in the future. The comparison did not return the same result as suggested by the identity (`is`)) and will change.\n",
      "  _nan_object_mask = _nan_object_array != _nan_object_array\n"
     ]
    }
   ],
   "source": [
    "import pandas as pd\n",
    "import pipeline as p\n",
    "%load_ext autoreload\n",
    "%autoreload 2\n",
    "\n",
    "import matplotlib.pyplot as plt\n",
    "import seaborn as sns\n",
    "import numpy as np\n",
    "from sklearn.decomposition import PCA\n",
    "from matplotlib import rcParams\n",
    "import warnings\n",
    "\n",
    "warnings.filterwarnings(action='ignore', category=UserWarning)\n",
    "rcParams.update({'figure.autolayout': True})"
   ]
  },
  {
   "cell_type": "code",
   "execution_count": 3,
   "metadata": {},
   "outputs": [],
   "source": [
    "# plt.style.use('ggplot')\n",
    "# plt.style.use('/Users/kendra/.matplotlib/kf_fig.mplstyle')\n",
    "plt.style.use('/Users/kendra/.matplotlib/base_style.mplstyle')"
   ]
  },
  {
   "cell_type": "code",
   "execution_count": 6,
   "metadata": {},
   "outputs": [],
   "source": [
    "df = p.open_pkl('Data/breast_df_for_model.pkl')\n",
    "df_sub = p.open_pkl('Data/breast_df_with_sub_for_model.pkl')"
   ]
  },
  {
   "cell_type": "code",
   "execution_count": 7,
   "metadata": {},
   "outputs": [
    {
     "data": {
      "text/html": [
       "<div>\n",
       "<style scoped>\n",
       "    .dataframe tbody tr th:only-of-type {\n",
       "        vertical-align: middle;\n",
       "    }\n",
       "\n",
       "    .dataframe tbody tr th {\n",
       "        vertical-align: top;\n",
       "    }\n",
       "\n",
       "    .dataframe thead th {\n",
       "        text-align: right;\n",
       "    }\n",
       "</style>\n",
       "<table border=\"1\" class=\"dataframe\">\n",
       "  <thead>\n",
       "    <tr style=\"text-align: right;\">\n",
       "      <th></th>\n",
       "      <th>MAR_STAT_MOD</th>\n",
       "      <th>RACE_MOD</th>\n",
       "      <th>AGE_DX</th>\n",
       "      <th>GRADE</th>\n",
       "      <th>TUMSIZ</th>\n",
       "      <th>SURG</th>\n",
       "      <th>SEQ_NUM</th>\n",
       "      <th>PRIMSITE</th>\n",
       "      <th>POS_NODES</th>\n",
       "      <th>INVAS</th>\n",
       "      <th>HST_STGA</th>\n",
       "      <th>TARGET</th>\n",
       "    </tr>\n",
       "  </thead>\n",
       "  <tbody>\n",
       "    <tr>\n",
       "      <th>0</th>\n",
       "      <td>1.0</td>\n",
       "      <td>3</td>\n",
       "      <td>45.0</td>\n",
       "      <td>3.0</td>\n",
       "      <td>40.0</td>\n",
       "      <td>1.0</td>\n",
       "      <td>0</td>\n",
       "      <td>C504</td>\n",
       "      <td>1.0</td>\n",
       "      <td>1</td>\n",
       "      <td>2.0</td>\n",
       "      <td>1</td>\n",
       "    </tr>\n",
       "    <tr>\n",
       "      <th>1</th>\n",
       "      <td>0.0</td>\n",
       "      <td>3</td>\n",
       "      <td>49.0</td>\n",
       "      <td>2.0</td>\n",
       "      <td>50.0</td>\n",
       "      <td>1.0</td>\n",
       "      <td>0</td>\n",
       "      <td>C502</td>\n",
       "      <td>1.0</td>\n",
       "      <td>1</td>\n",
       "      <td>2.0</td>\n",
       "      <td>1</td>\n",
       "    </tr>\n",
       "    <tr>\n",
       "      <th>4</th>\n",
       "      <td>1.0</td>\n",
       "      <td>3</td>\n",
       "      <td>69.0</td>\n",
       "      <td>2.0</td>\n",
       "      <td>15.0</td>\n",
       "      <td>1.0</td>\n",
       "      <td>0</td>\n",
       "      <td>C504</td>\n",
       "      <td>0.0</td>\n",
       "      <td>1</td>\n",
       "      <td>1.0</td>\n",
       "      <td>1</td>\n",
       "    </tr>\n",
       "    <tr>\n",
       "      <th>5</th>\n",
       "      <td>1.0</td>\n",
       "      <td>3</td>\n",
       "      <td>65.0</td>\n",
       "      <td>3.0</td>\n",
       "      <td>34.0</td>\n",
       "      <td>1.0</td>\n",
       "      <td>1</td>\n",
       "      <td>C505</td>\n",
       "      <td>0.0</td>\n",
       "      <td>1</td>\n",
       "      <td>1.0</td>\n",
       "      <td>1</td>\n",
       "    </tr>\n",
       "    <tr>\n",
       "      <th>6</th>\n",
       "      <td>1.0</td>\n",
       "      <td>3</td>\n",
       "      <td>34.0</td>\n",
       "      <td>3.0</td>\n",
       "      <td>15.0</td>\n",
       "      <td>1.0</td>\n",
       "      <td>0</td>\n",
       "      <td>C506</td>\n",
       "      <td>0.0</td>\n",
       "      <td>1</td>\n",
       "      <td>1.0</td>\n",
       "      <td>1</td>\n",
       "    </tr>\n",
       "  </tbody>\n",
       "</table>\n",
       "</div>"
      ],
      "text/plain": [
       "   MAR_STAT_MOD RACE_MOD  AGE_DX  GRADE  TUMSIZ  SURG  SEQ_NUM PRIMSITE  \\\n",
       "0           1.0        3    45.0    3.0    40.0   1.0        0     C504   \n",
       "1           0.0        3    49.0    2.0    50.0   1.0        0     C502   \n",
       "4           1.0        3    69.0    2.0    15.0   1.0        0     C504   \n",
       "5           1.0        3    65.0    3.0    34.0   1.0        1     C505   \n",
       "6           1.0        3    34.0    3.0    15.0   1.0        0     C506   \n",
       "\n",
       "   POS_NODES  INVAS  HST_STGA  TARGET  \n",
       "0        1.0      1       2.0       1  \n",
       "1        1.0      1       2.0       1  \n",
       "4        0.0      1       1.0       1  \n",
       "5        0.0      1       1.0       1  \n",
       "6        0.0      1       1.0       1  "
      ]
     },
     "execution_count": 7,
     "metadata": {},
     "output_type": "execute_result"
    }
   ],
   "source": [
    "df.head()"
   ]
  },
  {
   "cell_type": "code",
   "execution_count": 70,
   "metadata": {},
   "outputs": [
    {
     "data": {
      "image/png": "[encoded data removed]",
      "text/plain": [
       "<Figure size 432x288 with 1 Axes>"
      ]
     },
     "metadata": {
      "needs_background": "light"
     },
     "output_type": "display_data"
    }
   ],
   "source": [
    "dist = p.vcs(df, 'TARGET') / len(df) * 100\n",
    "data = dist.values\n",
    "# labels = dist.index\n",
    "labels = ['Did not survive', 'Survived']\n",
    "y = len(data)\n",
    "\n",
    "plt.xlabel('% patients')\n",
    "plt.title('Imbalanced Target', fontsize=18)\n",
    "plt.barh(range(y), data, tick_label=labels, color='orange');\n"
   ]
  },
  {
   "cell_type": "code",
   "execution_count": 121,
   "metadata": {},
   "outputs": [
    {
     "data": {
      "text/plain": [
       "count    222127.000000\n",
       "mean         60.105777\n",
       "std          13.372055\n",
       "min          17.000000\n",
       "25%          50.000000\n",
       "50%          60.000000\n",
       "75%          70.000000\n",
       "max         103.000000\n",
       "Name: AGE_DX, dtype: float64"
      ]
     },
     "execution_count": 121,
     "metadata": {},
     "output_type": "execute_result"
    }
   ],
   "source": [
    "df['AGE_DX'].describe()"
   ]
  },
  {
   "cell_type": "code",
   "execution_count": 10,
   "metadata": {},
   "outputs": [
    {
     "data": {
      "image/png": "[encoded data removed]",
      "text/plain": [
       "<Figure size 576x360 with 1 Axes>"
      ]
     },
     "metadata": {
      "needs_background": "light"
     },
     "output_type": "display_data"
    }
   ],
   "source": [
    "fig = plt.figure(figsize=(8,5))\n",
    "ax = fig.add_subplot(111)\n",
    "\n",
    "plt.hist(df['AGE_DX'], bins=15, density=True, color='orange', edgecolor='gray', linewidth=1)\n",
    "plt.xlabel('Age (yrs)') #, fontsize=14)\n",
    "ax.yaxis.set_label_coords(-0.05, 1) \n",
    "ax.set_ylabel('fraction', rotation=0) #,fontsize=14)\n",
    "# plt.xticks(fontsize=12)\n",
    "# plt.yticks(fontsize=12)\n",
    "plt.title('Age at Diagnosis', fontsize=18);\n",
    "# plt.savefig('Figures/AgeAtDx.png', dpi=300, transparent=True)"
   ]
  },
  {
   "cell_type": "code",
   "execution_count": 11,
   "metadata": {},
   "outputs": [
    {
     "data": {
      "image/png": "[encoded data removed]",
      "text/plain": [
       "<Figure size 576x360 with 1 Axes>"
      ]
     },
     "metadata": {
      "needs_background": "light"
     },
     "output_type": "display_data"
    }
   ],
   "source": [
    "fig = plt.figure(figsize=(8,5))\n",
    "ax = fig.add_subplot(111)\n",
    "\n",
    "plt.hist(df[df['TARGET'] == 1]['AGE_DX'], \n",
    "         bins=15, density=True, color='green', \n",
    "         alpha=0.5, edgecolor='gray', linewidth=1,\n",
    "        label=\"Survived\")\n",
    "plt.hist(df[df['TARGET'] == 0]['AGE_DX'], \n",
    "         bins=15, density=True, color='xkcd:goldenrod', \n",
    "         alpha=0.5, edgecolor='gray', linewidth=1,\n",
    "        label=\"Did not survive\")\n",
    "plt.xlabel('Age (yrs)') #, fontsize=14)\n",
    "ax.yaxis.set_label_coords(-0.05, 1) \n",
    "ax.set_ylabel('fraction', rotation=0) #,fontsize=14)\n",
    "# plt.xticks(fontsize=12)\n",
    "# plt.yticks(fontsize=12)\n",
    "plt.legend()\n",
    "\n",
    "plt.title('Age at Diagnosis', fontsize=18);\n",
    "plt.savefig('Figures/AgeAtDx.png', dpi=300, transparent=True)"
   ]
  },
  {
   "cell_type": "code",
   "execution_count": 12,
   "metadata": {},
   "outputs": [
    {
     "data": {
      "image/png": "[encoded data removed]",
      "text/plain": [
       "<Figure size 576x360 with 1 Axes>"
      ]
     },
     "metadata": {
      "needs_background": "light"
     },
     "output_type": "display_data"
    }
   ],
   "source": [
    "fig = plt.figure(figsize=(8,5))\n",
    "ax = fig.add_subplot(111)\n",
    "\n",
    "sns.distplot(df[df['TARGET'] == 1]['AGE_DX'],\n",
    "         bins=15, hist=True, color='green', \n",
    "        label=\"Survived\")\n",
    "sns.distplot(df[df['TARGET'] == 0]['AGE_DX'], \n",
    "         bins=15, hist=True, color='xkcd:goldenrod', \n",
    "        label=\"Did not survive\")\n",
    "plt.xlabel('Age (yrs)') #, fontsize=14)\n",
    "ax.yaxis.set_label_coords(-0.05, 1) \n",
    "ax.set_ylabel('fraction', rotation=0) #,fontsize=14)\n",
    "# plt.xticks(fontsize=12)\n",
    "# plt.yticks(fontsize=12)\n",
    "plt.legend()\n",
    "\n",
    "plt.title('Age at Diagnosis', fontsize=18);\n",
    "plt.savefig('Figures/AgeAtDx_sns.png', dpi=300, transparent=True)"
   ]
  },
  {
   "cell_type": "markdown",
   "metadata": {},
   "source": [
    "**Grade**"
   ]
  },
  {
   "cell_type": "code",
   "execution_count": 124,
   "metadata": {},
   "outputs": [],
   "source": [
    "dist = p.vcs(df, 'GRADE')\n",
    "data = dist.values\n",
    "labels = dist.index\n",
    "y = len(data)"
   ]
  },
  {
   "cell_type": "code",
   "execution_count": 125,
   "metadata": {},
   "outputs": [
    {
     "data": {
      "text/plain": [
       "<BarContainer object of 4 artists>"
      ]
     },
     "execution_count": 125,
     "metadata": {},
     "output_type": "execute_result"
    },
    {
     "name": "stderr",
     "output_type": "stream",
     "text": [
      "/Users/kendra/anaconda3/lib/python3.6/site-packages/matplotlib/figure.py:2362: UserWarning: This figure includes Axes that are not compatible with tight_layout, so results might be incorrect.\n",
      "  warnings.warn(\"This figure includes Axes that are not compatible \"\n"
     ]
    },
    {
     "data": {
      "image/png": "[encoded data removed]",
      "text/plain": [
       "<Figure size 432x288 with 1 Axes>"
      ]
     },
     "metadata": {
      "needs_background": "light"
     },
     "output_type": "display_data"
    }
   ],
   "source": [
    "plt.barh(range(y), data, tick_label=labels)"
   ]
  },
  {
   "cell_type": "markdown",
   "metadata": {},
   "source": [
    "**Tumor Size**\n",
    "- 001-988 Exact size in millimeters\n",
    "- 989 989 millimeters or larger"
   ]
  },
  {
   "cell_type": "code",
   "execution_count": 125,
   "metadata": {},
   "outputs": [
    {
     "data": {
      "text/plain": [
       "{'whiskers': [<matplotlib.lines.Line2D at 0x1a29204eb8>,\n",
       "  <matplotlib.lines.Line2D at 0x1a29204588>],\n",
       " 'caps': [<matplotlib.lines.Line2D at 0x1a292047b8>,\n",
       "  <matplotlib.lines.Line2D at 0x1a2ac38ac8>],\n",
       " 'boxes': [<matplotlib.lines.Line2D at 0x1a29204ba8>],\n",
       " 'medians': [<matplotlib.lines.Line2D at 0x1a2ac38a58>],\n",
       " 'fliers': [<matplotlib.lines.Line2D at 0x1a2ac38208>],\n",
       " 'means': []}"
      ]
     },
     "execution_count": 125,
     "metadata": {},
     "output_type": "execute_result"
    },
    {
     "data": {
      "image/png": "[encoded data removed]",
      "text/plain": [
       "<Figure size 432x288 with 1 Axes>"
      ]
     },
     "metadata": {
      "needs_background": "light"
     },
     "output_type": "display_data"
    }
   ],
   "source": [
    "plt.boxplot(df['TUMSIZ'])"
   ]
  },
  {
   "cell_type": "code",
   "execution_count": 123,
   "metadata": {},
   "outputs": [
    {
     "data": {
      "text/plain": [
       "count    222127.000000\n",
       "mean         21.640183\n",
       "std          21.761431\n",
       "min           0.000000\n",
       "25%          10.000000\n",
       "50%          17.000000\n",
       "75%          25.000000\n",
       "max         989.000000\n",
       "Name: TUMSIZ, dtype: float64"
      ]
     },
     "execution_count": 123,
     "metadata": {},
     "output_type": "execute_result"
    }
   ],
   "source": [
    "df['TUMSIZ'].describe()"
   ]
  },
  {
   "cell_type": "markdown",
   "metadata": {},
   "source": [
    "**Pos Nodes**"
   ]
  },
  {
   "cell_type": "code",
   "execution_count": 126,
   "metadata": {},
   "outputs": [
    {
     "data": {
      "text/plain": [
       "{'whiskers': [<matplotlib.lines.Line2D at 0x1a1bc23dd8>,\n",
       "  <matplotlib.lines.Line2D at 0x1a1bc23b70>],\n",
       " 'caps': [<matplotlib.lines.Line2D at 0x1a1bc23b00>,\n",
       "  <matplotlib.lines.Line2D at 0x1a195c62b0>],\n",
       " 'boxes': [<matplotlib.lines.Line2D at 0x1a1bc23400>],\n",
       " 'medians': [<matplotlib.lines.Line2D at 0x1a195c60f0>],\n",
       " 'fliers': [<matplotlib.lines.Line2D at 0x1a195c61d0>],\n",
       " 'means': []}"
      ]
     },
     "execution_count": 126,
     "metadata": {},
     "output_type": "execute_result"
    },
    {
     "data": {
      "image/png": "[encoded data removed]",
      "text/plain": [
       "<Figure size 432x288 with 1 Axes>"
      ]
     },
     "metadata": {
      "needs_background": "light"
     },
     "output_type": "display_data"
    }
   ],
   "source": [
    "plt.boxplot(df['POS_NODES'])"
   ]
  },
  {
   "cell_type": "code",
   "execution_count": 127,
   "metadata": {},
   "outputs": [
    {
     "data": {
      "text/plain": [
       "count    222127.000000\n",
       "mean          1.328510\n",
       "std           3.406329\n",
       "min           0.000000\n",
       "25%           0.000000\n",
       "50%           0.000000\n",
       "75%           1.000000\n",
       "max          79.000000\n",
       "Name: POS_NODES, dtype: float64"
      ]
     },
     "execution_count": 127,
     "metadata": {},
     "output_type": "execute_result"
    }
   ],
   "source": [
    "df['POS_NODES'].describe()"
   ]
  },
  {
   "cell_type": "code",
   "execution_count": null,
   "metadata": {},
   "outputs": [],
   "source": []
  },
  {
   "cell_type": "markdown",
   "metadata": {},
   "source": [
    "### Subtypes"
   ]
  },
  {
   "cell_type": "code",
   "execution_count": 25,
   "metadata": {},
   "outputs": [],
   "source": [
    "dist = p.vcs(df_sub, 'HER2')\n",
    "data = dist.values\n",
    "labels = dist.index\n",
    "y = len(data)"
   ]
  },
  {
   "cell_type": "code",
   "execution_count": 55,
   "metadata": {},
   "outputs": [],
   "source": [
    "d1 = df_sub[df_sub['TARGET'] == 1]['HER2'].value_counts().values\n",
    "d1 = d1/len(df_sub[df_sub['TARGET'] == 1])\n",
    "d0 = df_sub[df_sub['TARGET'] == 0]['HER2'].value_counts().values\n",
    "d0 = d0/len(df_sub[df_sub['TARGET'] == 0])"
   ]
  },
  {
   "cell_type": "code",
   "execution_count": 58,
   "metadata": {},
   "outputs": [
    {
     "data": {
      "text/plain": [
       "Text(0.5, 0, '# of patients')"
      ]
     },
     "execution_count": 58,
     "metadata": {},
     "output_type": "execute_result"
    },
    {
     "data": {
      "image/png": "[encoded data removed]",
      "text/plain": [
       "<Figure size 432x288 with 1 Axes>"
      ]
     },
     "metadata": {
      "needs_background": "light"
     },
     "output_type": "display_data"
    }
   ],
   "source": [
    "plt.barh([0,3], d1, tick_label=labels, color='green')\n",
    "plt.barh([1,4], d0, color='orange')\n",
    "plt.ylabel('HER2')\n",
    "plt.xlabel('# of patients')"
   ]
  },
  {
   "cell_type": "code",
   "execution_count": 39,
   "metadata": {},
   "outputs": [],
   "source": [
    "surv_color = 'xkcd:light teal'\n",
    "surv_text_color = 'xkcd:teal'\n",
    "dns_color = 'xkcd:dark pink'"
   ]
  },
  {
   "cell_type": "markdown",
   "metadata": {},
   "source": [
    "### Sub-type\n",
    "- 1         Her2+/HR+\n",
    "- 2     Her2+/HR-\n",
    "- 3       Her2-/HR+\n",
    "- 4 Triple Negative"
   ]
  },
  {
   "cell_type": "code",
   "execution_count": 107,
   "metadata": {},
   "outputs": [],
   "source": [
    "dist = p.vcs(df_sub, 'BRST_SUB')\n",
    "data = dist.values\n",
    "# labels = dist.index\n",
    "labels = ['Her2+/HR+','Her2+/HR-','Her2-/HR+', 'Triple Neg']\n",
    "y = len(data)"
   ]
  },
  {
   "cell_type": "code",
   "execution_count": 108,
   "metadata": {},
   "outputs": [],
   "source": [
    "d1 = df_sub[df_sub['TARGET'] == 1]['BRST_SUB'].value_counts().values\n",
    "d1 = d1/len(df_sub[df_sub['TARGET'] == 1]) * 100\n",
    "d0 = df_sub[df_sub['TARGET'] == 0]['BRST_SUB'].value_counts().values\n",
    "d0 = d0/len(df_sub[df_sub['TARGET'] == 0]) * 100"
   ]
  },
  {
   "cell_type": "code",
   "execution_count": 120,
   "metadata": {},
   "outputs": [
    {
     "data": {
      "image/png": "[encoded data removed]",
      "text/plain": [
       "<Figure size 576x360 with 1 Axes>"
      ]
     },
     "metadata": {
      "needs_background": "light"
     },
     "output_type": "display_data"
    }
   ],
   "source": [
    "labels = ['Pos/Pos','Pos/Neg','Neg/Pos', 'Neg/Neg']\n",
    "# labels = ['Her2+/HR+','Her2+/HR-','Her2-/HR+', 'Triple Neg']\n",
    "\n",
    "\n",
    "fig = plt.figure(figsize=(8,5))\n",
    "ax = plt.subplot(111)\n",
    "\n",
    "plt.barh(np.arange(1,y*3, 3), d0, color=dns_color)\n",
    "plt.barh(np.arange(0,y*3, 3), d1, color=surv_color) # tick_label=labels, \n",
    "\n",
    "plt.yticks(np.arange(0.5,y*3, 3),labels=labels, fontsize=14)\n",
    "ax.yaxis.set_label_coords(0, 1.02) \n",
    "# ax.set_ylabel('Her2/ER Sub-Type', x=0.02, y=0.98, rotation=0, fontsize=16)\n",
    "ax.set_ylabel('Her2/ER Sub-Type', x=0.0, y=0.98, rotation=0, fontsize=15)\n",
    "\n",
    "plt.text(10, 9.85, 'did not survive', color=dns_color, fontsize=14)\n",
    "plt.text(10, 8.85, 'survived', color=surv_text_color, fontsize=14)\n",
    "plt.xlabel('percent of patients');\n",
    "plt.savefig('Figures/Sub-type.png', dpi=300, transparent=False)"
   ]
  },
  {
   "cell_type": "code",
   "execution_count": null,
   "metadata": {},
   "outputs": [],
   "source": []
  },
  {
   "cell_type": "code",
   "execution_count": 85,
   "metadata": {},
   "outputs": [],
   "source": [
    "def plot_surv_vs_not(df, feature, data_labels=None, ylabel=None, figname=None):\n",
    "    dist = p.vcs(df, feature)\n",
    "    data = dist.values\n",
    "    y = len(data)\n",
    "    \n",
    "    if not data_labels:\n",
    "        data_labels = dist.index\n",
    "    if not ylabel:\n",
    "        ylabel=feature\n",
    "    \n",
    "    # d1 = survived, d0 = did not survive\n",
    "    d0 = df[df['TARGET'] == 0][feature].value_counts().values\n",
    "    d0 = d0/len(df[df['TARGET'] == 0]) * 100\n",
    "    d1 = df[df['TARGET'] == 1][feature].value_counts().values\n",
    "    d1 = d1/len(df[df['TARGET'] == 1]) * 100\n",
    "\n",
    "    fig = plt.figure(figsize=(8,5))\n",
    "    ax = plt.subplot(111)\n",
    "\n",
    "    plt.barh(np.arange(1,y*3, 3), d0, color=dns_color)\n",
    "    plt.barh(np.arange(0,y*3, 3), d1, color=surv_color) # tick_label=labels,\n",
    "    \n",
    "    plt.yticks(np.arange(0.5,y*3, 3),labels=data_labels, fontsize=14)\n",
    "#     ax.yaxis.set_label_coords(0, 1.02) \n",
    "    \n",
    "    ax.set_ylabel(ylabel, x=-0.095, y=0.98, rotation=0, fontsize=16)\n",
    "\n",
    "    plt.text(10, 9.85, 'did not survive', color=dns_color, fontsize=14)\n",
    "    plt.text(10, 8.85, 'survived', color=surv_text_color, fontsize=14)\n",
    "    plt.xlabel('percent of patients')\n",
    "    \n",
    "    if figname:\n",
    "        plt.savefig(f'Figures/{figname}.png', dpi=300, transparent=False)\n",
    "    "
   ]
  },
  {
   "cell_type": "code",
   "execution_count": 59,
   "metadata": {},
   "outputs": [
    {
     "data": {
      "text/html": [
       "<div>\n",
       "<style scoped>\n",
       "    .dataframe tbody tr th:only-of-type {\n",
       "        vertical-align: middle;\n",
       "    }\n",
       "\n",
       "    .dataframe tbody tr th {\n",
       "        vertical-align: top;\n",
       "    }\n",
       "\n",
       "    .dataframe thead th {\n",
       "        text-align: right;\n",
       "    }\n",
       "</style>\n",
       "<table border=\"1\" class=\"dataframe\">\n",
       "  <thead>\n",
       "    <tr style=\"text-align: right;\">\n",
       "      <th></th>\n",
       "      <th>MAR_STAT_MOD</th>\n",
       "      <th>RACE_MOD</th>\n",
       "      <th>AGE_DX</th>\n",
       "      <th>GRADE</th>\n",
       "      <th>TUMSIZ</th>\n",
       "      <th>SURG</th>\n",
       "      <th>SEQ_NUM</th>\n",
       "      <th>PRIMSITE</th>\n",
       "      <th>POS_NODES</th>\n",
       "      <th>INVAS</th>\n",
       "      <th>HST_STGA</th>\n",
       "      <th>TARGET</th>\n",
       "    </tr>\n",
       "  </thead>\n",
       "  <tbody>\n",
       "    <tr>\n",
       "      <th>0</th>\n",
       "      <td>1.0</td>\n",
       "      <td>3</td>\n",
       "      <td>45.0</td>\n",
       "      <td>3.0</td>\n",
       "      <td>40.0</td>\n",
       "      <td>1.0</td>\n",
       "      <td>0</td>\n",
       "      <td>C504</td>\n",
       "      <td>1.0</td>\n",
       "      <td>1</td>\n",
       "      <td>2.0</td>\n",
       "      <td>1</td>\n",
       "    </tr>\n",
       "    <tr>\n",
       "      <th>1</th>\n",
       "      <td>0.0</td>\n",
       "      <td>3</td>\n",
       "      <td>49.0</td>\n",
       "      <td>2.0</td>\n",
       "      <td>50.0</td>\n",
       "      <td>1.0</td>\n",
       "      <td>0</td>\n",
       "      <td>C502</td>\n",
       "      <td>1.0</td>\n",
       "      <td>1</td>\n",
       "      <td>2.0</td>\n",
       "      <td>1</td>\n",
       "    </tr>\n",
       "    <tr>\n",
       "      <th>4</th>\n",
       "      <td>1.0</td>\n",
       "      <td>3</td>\n",
       "      <td>69.0</td>\n",
       "      <td>2.0</td>\n",
       "      <td>15.0</td>\n",
       "      <td>1.0</td>\n",
       "      <td>0</td>\n",
       "      <td>C504</td>\n",
       "      <td>0.0</td>\n",
       "      <td>1</td>\n",
       "      <td>1.0</td>\n",
       "      <td>1</td>\n",
       "    </tr>\n",
       "    <tr>\n",
       "      <th>5</th>\n",
       "      <td>1.0</td>\n",
       "      <td>3</td>\n",
       "      <td>65.0</td>\n",
       "      <td>3.0</td>\n",
       "      <td>34.0</td>\n",
       "      <td>1.0</td>\n",
       "      <td>1</td>\n",
       "      <td>C505</td>\n",
       "      <td>0.0</td>\n",
       "      <td>1</td>\n",
       "      <td>1.0</td>\n",
       "      <td>1</td>\n",
       "    </tr>\n",
       "    <tr>\n",
       "      <th>6</th>\n",
       "      <td>1.0</td>\n",
       "      <td>3</td>\n",
       "      <td>34.0</td>\n",
       "      <td>3.0</td>\n",
       "      <td>15.0</td>\n",
       "      <td>1.0</td>\n",
       "      <td>0</td>\n",
       "      <td>C506</td>\n",
       "      <td>0.0</td>\n",
       "      <td>1</td>\n",
       "      <td>1.0</td>\n",
       "      <td>1</td>\n",
       "    </tr>\n",
       "  </tbody>\n",
       "</table>\n",
       "</div>"
      ],
      "text/plain": [
       "   MAR_STAT_MOD RACE_MOD  AGE_DX  GRADE  TUMSIZ  SURG  SEQ_NUM PRIMSITE  \\\n",
       "0           1.0        3    45.0    3.0    40.0   1.0        0     C504   \n",
       "1           0.0        3    49.0    2.0    50.0   1.0        0     C502   \n",
       "4           1.0        3    69.0    2.0    15.0   1.0        0     C504   \n",
       "5           1.0        3    65.0    3.0    34.0   1.0        1     C505   \n",
       "6           1.0        3    34.0    3.0    15.0   1.0        0     C506   \n",
       "\n",
       "   POS_NODES  INVAS  HST_STGA  TARGET  \n",
       "0        1.0      1       2.0       1  \n",
       "1        1.0      1       2.0       1  \n",
       "4        0.0      1       1.0       1  \n",
       "5        0.0      1       1.0       1  \n",
       "6        0.0      1       1.0       1  "
      ]
     },
     "execution_count": 59,
     "metadata": {},
     "output_type": "execute_result"
    }
   ],
   "source": [
    "df.head()"
   ]
  },
  {
   "cell_type": "code",
   "execution_count": 86,
   "metadata": {},
   "outputs": [
    {
     "data": {
      "image/png": "[encoded data removed]",
      "text/plain": [
       "<Figure size 576x360 with 1 Axes>"
      ]
     },
     "metadata": {
      "needs_background": "light"
     },
     "output_type": "display_data"
    }
   ],
   "source": [
    "plot_surv_vs_not(df, 'HST_STGA')"
   ]
  },
  {
   "cell_type": "code",
   "execution_count": 62,
   "metadata": {},
   "outputs": [
    {
     "data": {
      "image/png": "[encoded data removed]",
      "text/plain": [
       "<Figure size 576x360 with 1 Axes>"
      ]
     },
     "metadata": {
      "needs_background": "light"
     },
     "output_type": "display_data"
    }
   ],
   "source": [
    "plot_surv_vs_not(df, 'GRADE')"
   ]
  },
  {
   "cell_type": "code",
   "execution_count": 74,
   "metadata": {},
   "outputs": [],
   "source": [
    "dist = p.vcs(df, 'TARGET') / len(df) * 100\n",
    "data = dist.values\n",
    "# labels = dist.index\n",
    "labels = ['Survive', 'Do not survive']\n",
    "y = len(data)"
   ]
  },
  {
   "cell_type": "code",
   "execution_count": 75,
   "metadata": {},
   "outputs": [
    {
     "data": {
      "text/plain": [
       "83.705717900120206"
      ]
     },
     "execution_count": 75,
     "metadata": {},
     "output_type": "execute_result"
    }
   ],
   "source": [
    "data[0]"
   ]
  },
  {
   "cell_type": "code",
   "execution_count": 80,
   "metadata": {},
   "outputs": [
    {
     "data": {
      "text/plain": [
       "array([0, 1])"
      ]
     },
     "execution_count": 80,
     "metadata": {},
     "output_type": "execute_result"
    }
   ],
   "source": [
    "np.arange(0,2)"
   ]
  },
  {
   "cell_type": "code",
   "execution_count": 82,
   "metadata": {},
   "outputs": [
    {
     "data": {
      "image/png": "[encoded data removed]",
      "text/plain": [
       "<Figure size 432x288 with 1 Axes>"
      ]
     },
     "metadata": {
      "needs_background": "light"
     },
     "output_type": "display_data"
    }
   ],
   "source": [
    "# plt.xlabel('% patients')\n",
    "plt.title('Imbalanced Target', fontsize=18)\n",
    "plt.barh(0, data[0],  color=surv_color);\n",
    "plt.barh(1, data[1], color=dns_color);\n",
    "plt.yticks(np.arange(0,2),labels=labels, fontsize=14)\n",
    "ax.yaxis.set_label_coords(0, 1.02) \n",
    "plt.savefig('Figures/Imbalance.png', dpi=300, transparent=False)"
   ]
  },
  {
   "cell_type": "code",
   "execution_count": 97,
   "metadata": {},
   "outputs": [
    {
     "data": {
      "text/plain": [
       "(83.705717900120206, 16.294282099879798)"
      ]
     },
     "execution_count": 97,
     "metadata": {},
     "output_type": "execute_result"
    }
   ],
   "source": [
    "data[0], data[1]"
   ]
  },
  {
   "cell_type": "code",
   "execution_count": 104,
   "metadata": {},
   "outputs": [
    {
     "data": {
      "image/png": "[encoded data removed]",
      "text/plain": [
       "<Figure size 432x288 with 1 Axes>"
      ]
     },
     "metadata": {
      "needs_background": "light"
     },
     "output_type": "display_data"
    }
   ],
   "source": [
    "# plt.xlabel('% patients')\n",
    "labels = ['Survive', 'Do not survive']\n",
    "\n",
    "plt.barh(0, data[0],  color=surv_color);\n",
    "plt.barh(1, data[1], color=dns_color);\n",
    "plt.yticks(np.arange(0,2),labels=labels, fontsize=14)\n",
    "ax = plt.gca()\n",
    "ax.xaxis.set_ticks_position('none') \n",
    "ax.xaxis.set_visible(False)\n",
    "plt.text(18, 0.95, '16%', fontsize=16, color=dns_color)\n",
    "plt.text(85, -0.05, '84%', fontsize=16, color=surv_text_color)\n",
    "\n",
    "plt.title('5-Year Survival', fontsize=18)\n",
    "plt.savefig('Figures/Survival_Percentage.png', dpi=300, transparent=False)"
   ]
  },
  {
   "cell_type": "code",
   "execution_count": null,
   "metadata": {},
   "outputs": [],
   "source": []
  }
 ],
 "metadata": {
  "kernelspec": {
   "display_name": "Python 3",
   "language": "python",
   "name": "python3"
  },
  "language_info": {
   "codemirror_mode": {
    "name": "ipython",
    "version": 3
   },
   "file_extension": ".py",
   "mimetype": "text/x-python",
   "name": "python",
   "nbconvert_exporter": "python",
   "pygments_lexer": "ipython3",
   "version": "3.6.6"
  }
 },
 "nbformat": 4,
 "nbformat_minor": 2
}
