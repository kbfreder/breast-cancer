{
 "cells": [
  {
   "cell_type": "code",
   "execution_count": 1,
   "metadata": {
    "scrolled": true
   },
   "outputs": [],
   "source": [
    "import pandas as pd\n",
    "import pipeline as p\n",
    "import cleaning as c\n",
    "\n",
    "%load_ext autoreload\n",
    "%autoreload 2\n",
    "\n",
    "import matplotlib.pyplot as plt\n",
    "import seaborn as sns\n",
    "\n",
    "from sklearn.model_selection import train_test_split\n",
    "from sklearn.compose import ColumnTransformer\n",
    "from sklearn.pipeline import Pipeline\n",
    "\n",
    "from sklearn.preprocessing import StandardScaler, OneHotEncoder\n",
    "\n",
    "pd.set_option('mode.chained_assignment', None)"
   ]
  },
  {
   "cell_type": "code",
   "execution_count": 66,
   "metadata": {},
   "outputs": [],
   "source": [
    "import datetime as dt"
   ]
  },
  {
   "cell_type": "code",
   "execution_count": 2,
   "metadata": {},
   "outputs": [],
   "source": [
    "df = p.open_pkl('Data/breast_2000-2015_df.pkl')"
   ]
  },
  {
   "cell_type": "code",
   "execution_count": 3,
   "metadata": {},
   "outputs": [
    {
     "data": {
      "text/plain": [
       "(592051, 133)"
      ]
     },
     "execution_count": 3,
     "metadata": {},
     "output_type": "execute_result"
    }
   ],
   "source": [
    "df.shape"
   ]
  },
  {
   "cell_type": "code",
   "execution_count": 30,
   "metadata": {},
   "outputs": [],
   "source": [
    "df4 = c.clean_only_mod(df)"
   ]
  },
  {
   "cell_type": "code",
   "execution_count": 60,
   "metadata": {},
   "outputs": [],
   "source": [
    "# drop TYPE_FU == 1, as we don't know the survival time for these patients\n",
    "df4 = df4[df4['TYPE_FU'] == '2']"
   ]
  },
  {
   "cell_type": "markdown",
   "metadata": {},
   "source": [
    "### Censoring Time\n",
    "1. Convert DX Month to numeric\n",
    "2. Create DX Date from DX month & year\n",
    "3. Calcluate Censoring Time = End of Study (12/31/15) - DX Date"
   ]
  },
  {
   "cell_type": "code",
   "execution_count": 73,
   "metadata": {},
   "outputs": [],
   "source": [
    "def month_plus_year(row):\n",
    "    return dt.datetime(year = row['YEAR_DX'], month = row['MDXRECMP'], day=1)"
   ]
  },
  {
   "cell_type": "code",
   "execution_count": 65,
   "metadata": {},
   "outputs": [],
   "source": [
    "df4['MDXRECMP'] = pd.to_numeric(df4['MDXRECMP'])\n",
    "df4['DATE_DX'] = df4.apply(lambda row: month_plus_year(row), axis=1)"
   ]
  },
  {
   "cell_type": "code",
   "execution_count": 84,
   "metadata": {},
   "outputs": [],
   "source": [
    "df4['CENSOR_TIME_MON'] = (dt.datetime(year=2015, month=12, day=31) - df4['DATE_DX']) / dt.timedelta(days=30)"
   ]
  },
  {
   "cell_type": "code",
   "execution_count": 85,
   "metadata": {},
   "outputs": [
    {
     "data": {
      "text/html": [
       "<div>\n",
       "<style scoped>\n",
       "    .dataframe tbody tr th:only-of-type {\n",
       "        vertical-align: middle;\n",
       "    }\n",
       "\n",
       "    .dataframe tbody tr th {\n",
       "        vertical-align: top;\n",
       "    }\n",
       "\n",
       "    .dataframe thead th {\n",
       "        text-align: right;\n",
       "    }\n",
       "</style>\n",
       "<table border=\"1\" class=\"dataframe\">\n",
       "  <thead>\n",
       "    <tr style=\"text-align: right;\">\n",
       "      <th></th>\n",
       "      <th>MDXRECMP</th>\n",
       "      <th>YEAR_DX</th>\n",
       "      <th>DATE_DX</th>\n",
       "      <th>SRV_TIME_MON</th>\n",
       "      <th>CENSOR_TIME_MON</th>\n",
       "    </tr>\n",
       "  </thead>\n",
       "  <tbody>\n",
       "    <tr>\n",
       "      <th>96528</th>\n",
       "      <td>3</td>\n",
       "      <td>2002</td>\n",
       "      <td>2002-03-01</td>\n",
       "      <td>165.0</td>\n",
       "      <td>168.433333</td>\n",
       "    </tr>\n",
       "    <tr>\n",
       "      <th>67476</th>\n",
       "      <td>2</td>\n",
       "      <td>2002</td>\n",
       "      <td>2002-02-01</td>\n",
       "      <td>166.0</td>\n",
       "      <td>169.366667</td>\n",
       "    </tr>\n",
       "    <tr>\n",
       "      <th>560844</th>\n",
       "      <td>12</td>\n",
       "      <td>2009</td>\n",
       "      <td>2009-12-01</td>\n",
       "      <td>72.0</td>\n",
       "      <td>74.033333</td>\n",
       "    </tr>\n",
       "    <tr>\n",
       "      <th>127257</th>\n",
       "      <td>8</td>\n",
       "      <td>2006</td>\n",
       "      <td>2006-08-01</td>\n",
       "      <td>112.0</td>\n",
       "      <td>114.633333</td>\n",
       "    </tr>\n",
       "    <tr>\n",
       "      <th>579375</th>\n",
       "      <td>1</td>\n",
       "      <td>2014</td>\n",
       "      <td>2014-01-01</td>\n",
       "      <td>20.0</td>\n",
       "      <td>24.300000</td>\n",
       "    </tr>\n",
       "    <tr>\n",
       "      <th>7322</th>\n",
       "      <td>4</td>\n",
       "      <td>2009</td>\n",
       "      <td>2009-04-01</td>\n",
       "      <td>40.0</td>\n",
       "      <td>82.166667</td>\n",
       "    </tr>\n",
       "    <tr>\n",
       "      <th>532556</th>\n",
       "      <td>12</td>\n",
       "      <td>2013</td>\n",
       "      <td>2013-12-01</td>\n",
       "      <td>24.0</td>\n",
       "      <td>25.333333</td>\n",
       "    </tr>\n",
       "    <tr>\n",
       "      <th>263138</th>\n",
       "      <td>12</td>\n",
       "      <td>2015</td>\n",
       "      <td>2015-12-01</td>\n",
       "      <td>0.0</td>\n",
       "      <td>1.000000</td>\n",
       "    </tr>\n",
       "    <tr>\n",
       "      <th>458892</th>\n",
       "      <td>11</td>\n",
       "      <td>2000</td>\n",
       "      <td>2000-11-01</td>\n",
       "      <td>181.0</td>\n",
       "      <td>184.600000</td>\n",
       "    </tr>\n",
       "    <tr>\n",
       "      <th>457790</th>\n",
       "      <td>4</td>\n",
       "      <td>2006</td>\n",
       "      <td>2006-04-01</td>\n",
       "      <td>116.0</td>\n",
       "      <td>118.700000</td>\n",
       "    </tr>\n",
       "  </tbody>\n",
       "</table>\n",
       "</div>"
      ],
      "text/plain": [
       "        MDXRECMP  YEAR_DX    DATE_DX  SRV_TIME_MON  CENSOR_TIME_MON\n",
       "96528          3     2002 2002-03-01         165.0       168.433333\n",
       "67476          2     2002 2002-02-01         166.0       169.366667\n",
       "560844        12     2009 2009-12-01          72.0        74.033333\n",
       "127257         8     2006 2006-08-01         112.0       114.633333\n",
       "579375         1     2014 2014-01-01          20.0        24.300000\n",
       "7322           4     2009 2009-04-01          40.0        82.166667\n",
       "532556        12     2013 2013-12-01          24.0        25.333333\n",
       "263138        12     2015 2015-12-01           0.0         1.000000\n",
       "458892        11     2000 2000-11-01         181.0       184.600000\n",
       "457790         4     2006 2006-04-01         116.0       118.700000"
      ]
     },
     "execution_count": 85,
     "metadata": {},
     "output_type": "execute_result"
    }
   ],
   "source": [
    "df4[['MDXRECMP', 'YEAR_DX', 'DATE_DX','SRV_TIME_MON', 'CENSOR_TIME_MON']].sample(10)"
   ]
  },
  {
   "cell_type": "code",
   "execution_count": 92,
   "metadata": {},
   "outputs": [
    {
     "data": {
      "image/png": "[encoded data removed]",
      "text/plain": [
       "<Figure size 432x288 with 1 Axes>"
      ]
     },
     "metadata": {
      "needs_background": "light"
     },
     "output_type": "display_data"
    }
   ],
   "source": [
    "df_test = df4.sample(1000)\n",
    "\n",
    "plt.scatter(df_test['SRV_TIME_MON'], df_test['CENSOR_TIME_MON'], marker = 'o', alpha = 0.2)\n",
    "plt.xlabel('Survival Time (months)')\n",
    "plt.ylabel('Censoring Time (months)');"
   ]
  },
  {
   "cell_type": "markdown",
   "metadata": {},
   "source": [
    "Most patients' censoring time ~= to survival time -- thus, they are right-censored"
   ]
  },
  {
   "cell_type": "code",
   "execution_count": 94,
   "metadata": {},
   "outputs": [],
   "source": [
    "import matplotlib"
   ]
  },
  {
   "cell_type": "code",
   "execution_count": 95,
   "metadata": {},
   "outputs": [
    {
     "data": {
      "text/plain": [
       "'3.0.0'"
      ]
     },
     "execution_count": 95,
     "metadata": {},
     "output_type": "execute_result"
    }
   ],
   "source": [
    "matplotlib.__version__"
   ]
  },
  {
   "cell_type": "code",
   "execution_count": null,
   "metadata": {},
   "outputs": [],
   "source": []
  },
  {
   "cell_type": "code",
   "execution_count": null,
   "metadata": {},
   "outputs": [],
   "source": []
  },
  {
   "cell_type": "code",
   "execution_count": null,
   "metadata": {},
   "outputs": [],
   "source": []
  },
  {
   "cell_type": "code",
   "execution_count": null,
   "metadata": {},
   "outputs": [],
   "source": []
  },
  {
   "cell_type": "markdown",
   "metadata": {},
   "source": [
    "## Old code"
   ]
  },
  {
   "cell_type": "code",
   "execution_count": 4,
   "metadata": {},
   "outputs": [],
   "source": [
    "df2, df3 = c.clean_and_dropna(df)"
   ]
  },
  {
   "cell_type": "code",
   "execution_count": 5,
   "metadata": {},
   "outputs": [
    {
     "data": {
      "text/html": [
       "<div>\n",
       "<style scoped>\n",
       "    .dataframe tbody tr th:only-of-type {\n",
       "        vertical-align: middle;\n",
       "    }\n",
       "\n",
       "    .dataframe tbody tr th {\n",
       "        vertical-align: top;\n",
       "    }\n",
       "\n",
       "    .dataframe thead th {\n",
       "        text-align: right;\n",
       "    }\n",
       "</style>\n",
       "<table border=\"1\" class=\"dataframe\">\n",
       "  <thead>\n",
       "    <tr style=\"text-align: right;\">\n",
       "      <th></th>\n",
       "      <th>MAR_STAT_MOD</th>\n",
       "      <th>RACE_MOD</th>\n",
       "      <th>AGE_DX</th>\n",
       "      <th>GRADE</th>\n",
       "      <th>TUMSIZ</th>\n",
       "      <th>SURG</th>\n",
       "      <th>SEQ_NUM</th>\n",
       "      <th>PRIMSITE</th>\n",
       "      <th>POS_NODES</th>\n",
       "      <th>HST_STGA</th>\n",
       "      <th>INVAS</th>\n",
       "      <th>TARGET</th>\n",
       "    </tr>\n",
       "  </thead>\n",
       "  <tbody>\n",
       "    <tr>\n",
       "      <th>0</th>\n",
       "      <td>1.0</td>\n",
       "      <td>01</td>\n",
       "      <td>45.0</td>\n",
       "      <td>3.0</td>\n",
       "      <td>40.0</td>\n",
       "      <td>1.0</td>\n",
       "      <td>0</td>\n",
       "      <td>C504</td>\n",
       "      <td>1.0</td>\n",
       "      <td>2.0</td>\n",
       "      <td>1</td>\n",
       "      <td>1</td>\n",
       "    </tr>\n",
       "    <tr>\n",
       "      <th>1</th>\n",
       "      <td>0.0</td>\n",
       "      <td>02</td>\n",
       "      <td>49.0</td>\n",
       "      <td>2.0</td>\n",
       "      <td>50.0</td>\n",
       "      <td>1.0</td>\n",
       "      <td>0</td>\n",
       "      <td>C502</td>\n",
       "      <td>1.0</td>\n",
       "      <td>2.0</td>\n",
       "      <td>1</td>\n",
       "      <td>1</td>\n",
       "    </tr>\n",
       "    <tr>\n",
       "      <th>4</th>\n",
       "      <td>1.0</td>\n",
       "      <td>01</td>\n",
       "      <td>69.0</td>\n",
       "      <td>2.0</td>\n",
       "      <td>15.0</td>\n",
       "      <td>1.0</td>\n",
       "      <td>0</td>\n",
       "      <td>C504</td>\n",
       "      <td>0.0</td>\n",
       "      <td>1.0</td>\n",
       "      <td>1</td>\n",
       "      <td>1</td>\n",
       "    </tr>\n",
       "    <tr>\n",
       "      <th>5</th>\n",
       "      <td>1.0</td>\n",
       "      <td>02</td>\n",
       "      <td>65.0</td>\n",
       "      <td>3.0</td>\n",
       "      <td>34.0</td>\n",
       "      <td>1.0</td>\n",
       "      <td>1</td>\n",
       "      <td>C505</td>\n",
       "      <td>0.0</td>\n",
       "      <td>1.0</td>\n",
       "      <td>1</td>\n",
       "      <td>1</td>\n",
       "    </tr>\n",
       "    <tr>\n",
       "      <th>6</th>\n",
       "      <td>1.0</td>\n",
       "      <td>01</td>\n",
       "      <td>34.0</td>\n",
       "      <td>3.0</td>\n",
       "      <td>15.0</td>\n",
       "      <td>1.0</td>\n",
       "      <td>0</td>\n",
       "      <td>C506</td>\n",
       "      <td>0.0</td>\n",
       "      <td>1.0</td>\n",
       "      <td>1</td>\n",
       "      <td>1</td>\n",
       "    </tr>\n",
       "  </tbody>\n",
       "</table>\n",
       "</div>"
      ],
      "text/plain": [
       "   MAR_STAT_MOD RACE_MOD  AGE_DX  GRADE  TUMSIZ  SURG  SEQ_NUM PRIMSITE  \\\n",
       "0           1.0       01    45.0    3.0    40.0   1.0        0     C504   \n",
       "1           0.0       02    49.0    2.0    50.0   1.0        0     C502   \n",
       "4           1.0       01    69.0    2.0    15.0   1.0        0     C504   \n",
       "5           1.0       02    65.0    3.0    34.0   1.0        1     C505   \n",
       "6           1.0       01    34.0    3.0    15.0   1.0        0     C506   \n",
       "\n",
       "   POS_NODES  HST_STGA  INVAS  TARGET  \n",
       "0        1.0       2.0      1       1  \n",
       "1        1.0       2.0      1       1  \n",
       "4        0.0       1.0      1       1  \n",
       "5        0.0       1.0      1       1  \n",
       "6        0.0       1.0      1       1  "
      ]
     },
     "execution_count": 5,
     "metadata": {},
     "output_type": "execute_result"
    }
   ],
   "source": [
    "df2.head()"
   ]
  },
  {
   "cell_type": "code",
   "execution_count": 6,
   "metadata": {},
   "outputs": [
    {
     "data": {
      "text/plain": [
       "(222127, 12)"
      ]
     },
     "execution_count": 6,
     "metadata": {},
     "output_type": "execute_result"
    }
   ],
   "source": [
    "df2.shape"
   ]
  },
  {
   "cell_type": "code",
   "execution_count": 39,
   "metadata": {},
   "outputs": [
    {
     "data": {
      "text/html": [
       "<div>\n",
       "<style scoped>\n",
       "    .dataframe tbody tr th:only-of-type {\n",
       "        vertical-align: middle;\n",
       "    }\n",
       "\n",
       "    .dataframe tbody tr th {\n",
       "        vertical-align: top;\n",
       "    }\n",
       "\n",
       "    .dataframe thead th {\n",
       "        text-align: right;\n",
       "    }\n",
       "</style>\n",
       "<table border=\"1\" class=\"dataframe\">\n",
       "  <thead>\n",
       "    <tr style=\"text-align: right;\">\n",
       "      <th></th>\n",
       "      <th>MAR_STAT_MOD</th>\n",
       "      <th>RACE_MOD</th>\n",
       "      <th>AGE_DX</th>\n",
       "      <th>GRADE</th>\n",
       "      <th>TUMSIZ</th>\n",
       "      <th>SURG</th>\n",
       "      <th>SEQ_NUM</th>\n",
       "      <th>PRIMSITE</th>\n",
       "      <th>POS_NODES</th>\n",
       "      <th>INVAS</th>\n",
       "      <th>HST_STGA</th>\n",
       "      <th>BRST_SUB</th>\n",
       "      <th>TARGET</th>\n",
       "    </tr>\n",
       "  </thead>\n",
       "  <tbody>\n",
       "    <tr>\n",
       "      <th>589</th>\n",
       "      <td>0.0</td>\n",
       "      <td>3</td>\n",
       "      <td>72.0</td>\n",
       "      <td>3.0</td>\n",
       "      <td>17.0</td>\n",
       "      <td>1.0</td>\n",
       "      <td>0</td>\n",
       "      <td>C504</td>\n",
       "      <td>0.0</td>\n",
       "      <td>1</td>\n",
       "      <td>1.0</td>\n",
       "      <td>3</td>\n",
       "      <td>1</td>\n",
       "    </tr>\n",
       "    <tr>\n",
       "      <th>688</th>\n",
       "      <td>1.0</td>\n",
       "      <td>3</td>\n",
       "      <td>72.0</td>\n",
       "      <td>2.0</td>\n",
       "      <td>15.0</td>\n",
       "      <td>1.0</td>\n",
       "      <td>2</td>\n",
       "      <td>C504</td>\n",
       "      <td>0.0</td>\n",
       "      <td>1</td>\n",
       "      <td>1.0</td>\n",
       "      <td>3</td>\n",
       "      <td>1</td>\n",
       "    </tr>\n",
       "    <tr>\n",
       "      <th>1108</th>\n",
       "      <td>0.0</td>\n",
       "      <td>3</td>\n",
       "      <td>56.0</td>\n",
       "      <td>3.0</td>\n",
       "      <td>24.0</td>\n",
       "      <td>1.0</td>\n",
       "      <td>3</td>\n",
       "      <td>C508</td>\n",
       "      <td>9.0</td>\n",
       "      <td>1</td>\n",
       "      <td>2.0</td>\n",
       "      <td>3</td>\n",
       "      <td>0</td>\n",
       "    </tr>\n",
       "    <tr>\n",
       "      <th>1267</th>\n",
       "      <td>0.0</td>\n",
       "      <td>3</td>\n",
       "      <td>85.0</td>\n",
       "      <td>3.0</td>\n",
       "      <td>8.0</td>\n",
       "      <td>1.0</td>\n",
       "      <td>2</td>\n",
       "      <td>C508</td>\n",
       "      <td>0.0</td>\n",
       "      <td>1</td>\n",
       "      <td>1.0</td>\n",
       "      <td>3</td>\n",
       "      <td>1</td>\n",
       "    </tr>\n",
       "    <tr>\n",
       "      <th>1702</th>\n",
       "      <td>0.0</td>\n",
       "      <td>3</td>\n",
       "      <td>83.0</td>\n",
       "      <td>1.0</td>\n",
       "      <td>11.0</td>\n",
       "      <td>1.0</td>\n",
       "      <td>2</td>\n",
       "      <td>C508</td>\n",
       "      <td>0.0</td>\n",
       "      <td>1</td>\n",
       "      <td>1.0</td>\n",
       "      <td>3</td>\n",
       "      <td>1</td>\n",
       "    </tr>\n",
       "  </tbody>\n",
       "</table>\n",
       "</div>"
      ],
      "text/plain": [
       "      MAR_STAT_MOD RACE_MOD  AGE_DX  GRADE  TUMSIZ  SURG  SEQ_NUM PRIMSITE  \\\n",
       "589            0.0        3    72.0    3.0    17.0   1.0        0     C504   \n",
       "688            1.0        3    72.0    2.0    15.0   1.0        2     C504   \n",
       "1108           0.0        3    56.0    3.0    24.0   1.0        3     C508   \n",
       "1267           0.0        3    85.0    3.0     8.0   1.0        2     C508   \n",
       "1702           0.0        3    83.0    1.0    11.0   1.0        2     C508   \n",
       "\n",
       "      POS_NODES  INVAS  HST_STGA BRST_SUB  TARGET  \n",
       "589         0.0      1       1.0        3       1  \n",
       "688         0.0      1       1.0        3       1  \n",
       "1108        9.0      1       2.0        3       0  \n",
       "1267        0.0      1       1.0        3       1  \n",
       "1702        0.0      1       1.0        3       1  "
      ]
     },
     "execution_count": 39,
     "metadata": {},
     "output_type": "execute_result"
    }
   ],
   "source": [
    "df3.head()"
   ]
  },
  {
   "cell_type": "code",
   "execution_count": 7,
   "metadata": {},
   "outputs": [
    {
     "data": {
      "text/plain": [
       "(19667, 13)"
      ]
     },
     "execution_count": 7,
     "metadata": {},
     "output_type": "execute_result"
    }
   ],
   "source": [
    "df3.shape"
   ]
  },
  {
   "cell_type": "code",
   "execution_count": 6,
   "metadata": {},
   "outputs": [],
   "source": [
    "p.pkl_this('Data/breast_df_for_model.pkl', df2)\n",
    "p.pkl_this('Data/breast_df_with_sub_for_model.pkl', df3)"
   ]
  },
  {
   "cell_type": "markdown",
   "metadata": {},
   "source": [
    "## Train-Test split"
   ]
  },
  {
   "cell_type": "markdown",
   "metadata": {},
   "source": [
    "Drop 'PRIMSITE' (primary site) -- later discovered to not be informative"
   ]
  },
  {
   "cell_type": "code",
   "execution_count": 7,
   "metadata": {},
   "outputs": [],
   "source": [
    "X = df2.drop(columns=['TARGET', 'PRIMSITE'])\n",
    "y = df2['TARGET']"
   ]
  },
  {
   "cell_type": "code",
   "execution_count": 8,
   "metadata": {},
   "outputs": [
    {
     "data": {
      "text/plain": [
       "1    0.837057\n",
       "0    0.162943\n",
       "Name: TARGET, dtype: float64"
      ]
     },
     "execution_count": 8,
     "metadata": {},
     "output_type": "execute_result"
    }
   ],
   "source": [
    "y.value_counts(1)"
   ]
  },
  {
   "cell_type": "code",
   "execution_count": 9,
   "metadata": {},
   "outputs": [],
   "source": [
    "X_train, X_test, y_train, y_test = train_test_split(\n",
    "    X, y, test_size = 0.3, random_state=12, stratify=y)\n",
    "\n",
    "X_train.reset_index(drop=True, inplace=True)\n",
    "y_train.reset_index(drop=True, inplace=True)"
   ]
  },
  {
   "cell_type": "code",
   "execution_count": 10,
   "metadata": {},
   "outputs": [],
   "source": [
    "p.pkl_this('Data/X_train_unprocessed.pkl', X_train)\n",
    "p.pkl_this('Data/y_train_unprocessed.pkl', y_train)\n",
    "p.pkl_this('Data/X_test_unprocessed.pkl', X_test)\n",
    "p.pkl_this('Data/y_test_unprocessed.pkl', y_test)"
   ]
  },
  {
   "cell_type": "markdown",
   "metadata": {},
   "source": [
    "Data with sub-type feature:"
   ]
  },
  {
   "cell_type": "code",
   "execution_count": 11,
   "metadata": {},
   "outputs": [],
   "source": [
    "Xsub = df3.drop(columns=['TARGET', 'PRIMSITE'])\n",
    "ysub = df3['TARGET']"
   ]
  },
  {
   "cell_type": "code",
   "execution_count": 12,
   "metadata": {},
   "outputs": [
    {
     "data": {
      "text/plain": [
       "1    0.784461\n",
       "0    0.215539\n",
       "Name: TARGET, dtype: float64"
      ]
     },
     "execution_count": 12,
     "metadata": {},
     "output_type": "execute_result"
    }
   ],
   "source": [
    "ysub.value_counts(1)"
   ]
  },
  {
   "cell_type": "code",
   "execution_count": 13,
   "metadata": {},
   "outputs": [],
   "source": [
    "X_train_sub, X_test_sub, y_train_sub, y_test_sub = train_test_split(\n",
    "    Xsub, ysub, test_size = 0.3, random_state=12, stratify=ysub)\n",
    "\n",
    "X_train_sub.reset_index(drop=True, inplace=True)\n",
    "y_train_sub.reset_index(drop=True, inplace=True)"
   ]
  },
  {
   "cell_type": "code",
   "execution_count": 14,
   "metadata": {},
   "outputs": [],
   "source": [
    "p.pkl_this('Data/X_train_unproc_with_sub.pkl', X_train_sub)\n",
    "p.pkl_this('Data/y_train_unproc_with_sub.pkl', y_train_sub)\n",
    "p.pkl_this('Data/X_test_unproc_with_sub.pkl', X_test_sub)\n",
    "p.pkl_this('Data/y_test_unproc_with_sub.pkl', y_test_sub)"
   ]
  },
  {
   "cell_type": "markdown",
   "metadata": {},
   "source": [
    "## Pre-processing Pipeline"
   ]
  },
  {
   "cell_type": "code",
   "execution_count": 24,
   "metadata": {},
   "outputs": [
    {
     "data": {
      "text/html": [
       "<div>\n",
       "<style scoped>\n",
       "    .dataframe tbody tr th:only-of-type {\n",
       "        vertical-align: middle;\n",
       "    }\n",
       "\n",
       "    .dataframe tbody tr th {\n",
       "        vertical-align: top;\n",
       "    }\n",
       "\n",
       "    .dataframe thead th {\n",
       "        text-align: right;\n",
       "    }\n",
       "</style>\n",
       "<table border=\"1\" class=\"dataframe\">\n",
       "  <thead>\n",
       "    <tr style=\"text-align: right;\">\n",
       "      <th></th>\n",
       "      <th>MAR_STAT_MOD</th>\n",
       "      <th>RACE_MOD</th>\n",
       "      <th>AGE_DX</th>\n",
       "      <th>GRADE</th>\n",
       "      <th>TUMSIZ</th>\n",
       "      <th>SURG</th>\n",
       "      <th>SEQ_NUM</th>\n",
       "      <th>POS_NODES</th>\n",
       "      <th>HST_STGA</th>\n",
       "      <th>INVAS</th>\n",
       "    </tr>\n",
       "  </thead>\n",
       "  <tbody>\n",
       "    <tr>\n",
       "      <th>0</th>\n",
       "      <td>1.0</td>\n",
       "      <td>3</td>\n",
       "      <td>79.0</td>\n",
       "      <td>3.0</td>\n",
       "      <td>15.0</td>\n",
       "      <td>1.0</td>\n",
       "      <td>2</td>\n",
       "      <td>0.0</td>\n",
       "      <td>1.0</td>\n",
       "      <td>1</td>\n",
       "    </tr>\n",
       "    <tr>\n",
       "      <th>1</th>\n",
       "      <td>0.0</td>\n",
       "      <td>3</td>\n",
       "      <td>94.0</td>\n",
       "      <td>2.0</td>\n",
       "      <td>20.0</td>\n",
       "      <td>1.0</td>\n",
       "      <td>0</td>\n",
       "      <td>0.0</td>\n",
       "      <td>1.0</td>\n",
       "      <td>1</td>\n",
       "    </tr>\n",
       "    <tr>\n",
       "      <th>2</th>\n",
       "      <td>0.0</td>\n",
       "      <td>3</td>\n",
       "      <td>80.0</td>\n",
       "      <td>3.0</td>\n",
       "      <td>1.0</td>\n",
       "      <td>1.0</td>\n",
       "      <td>0</td>\n",
       "      <td>0.0</td>\n",
       "      <td>1.0</td>\n",
       "      <td>1</td>\n",
       "    </tr>\n",
       "    <tr>\n",
       "      <th>3</th>\n",
       "      <td>1.0</td>\n",
       "      <td>3</td>\n",
       "      <td>76.0</td>\n",
       "      <td>1.0</td>\n",
       "      <td>18.0</td>\n",
       "      <td>1.0</td>\n",
       "      <td>0</td>\n",
       "      <td>0.0</td>\n",
       "      <td>1.0</td>\n",
       "      <td>1</td>\n",
       "    </tr>\n",
       "    <tr>\n",
       "      <th>4</th>\n",
       "      <td>1.0</td>\n",
       "      <td>3</td>\n",
       "      <td>84.0</td>\n",
       "      <td>1.0</td>\n",
       "      <td>8.0</td>\n",
       "      <td>1.0</td>\n",
       "      <td>2</td>\n",
       "      <td>0.0</td>\n",
       "      <td>1.0</td>\n",
       "      <td>1</td>\n",
       "    </tr>\n",
       "  </tbody>\n",
       "</table>\n",
       "</div>"
      ],
      "text/plain": [
       "   MAR_STAT_MOD RACE_MOD  AGE_DX  GRADE  TUMSIZ  SURG  SEQ_NUM  POS_NODES  \\\n",
       "0           1.0        3    79.0    3.0    15.0   1.0        2        0.0   \n",
       "1           0.0        3    94.0    2.0    20.0   1.0        0        0.0   \n",
       "2           0.0        3    80.0    3.0     1.0   1.0        0        0.0   \n",
       "3           1.0        3    76.0    1.0    18.0   1.0        0        0.0   \n",
       "4           1.0        3    84.0    1.0     8.0   1.0        2        0.0   \n",
       "\n",
       "   HST_STGA  INVAS  \n",
       "0       1.0      1  \n",
       "1       1.0      1  \n",
       "2       1.0      1  \n",
       "3       1.0      1  \n",
       "4       1.0      1  "
      ]
     },
     "execution_count": 24,
     "metadata": {},
     "output_type": "execute_result"
    }
   ],
   "source": [
    "X_train.head()"
   ]
  },
  {
   "cell_type": "code",
   "execution_count": 15,
   "metadata": {},
   "outputs": [],
   "source": [
    "# for dataframe without sub-type\n",
    "preprocessor1 = ColumnTransformer(\n",
    "    transformers=[\n",
    "        ('num', StandardScaler(), [2,4,7]), # age, tumor size, pos_nodes\n",
    "        ('cat', OneHotEncoder(categories='auto', handle_unknown='ignore'), [1]) # race_mod\n",
    "    ], remainder='passthrough')"
   ]
  },
  {
   "cell_type": "code",
   "execution_count": 16,
   "metadata": {},
   "outputs": [],
   "source": [
    "# for dataframe with sub-type\n",
    "preprocessor2 = ColumnTransformer(\n",
    "    transformers=[\n",
    "        ('num', StandardScaler(), [2,4,7]), # age, tumor size, pos_nodes\n",
    "        ('cat', OneHotEncoder(categories='auto', handle_unknown='ignore', ), [1,10]) # race, BRST_SUB\n",
    "    ], remainder='passthrough')"
   ]
  },
  {
   "cell_type": "code",
   "execution_count": 17,
   "metadata": {},
   "outputs": [],
   "source": [
    "X_tr_proc = preprocessor1.fit_transform(X_train)"
   ]
  },
  {
   "cell_type": "code",
   "execution_count": 18,
   "metadata": {},
   "outputs": [
    {
     "data": {
      "text/plain": [
       "array([ 1.41189499, -0.30159618, -0.39079147,  1.        ,  0.        ,\n",
       "        0.        ,  1.        ,  3.        ,  1.        ,  2.        ,\n",
       "        1.        ,  1.        ])"
      ]
     },
     "execution_count": 18,
     "metadata": {},
     "output_type": "execute_result"
    }
   ],
   "source": [
    "X_tr_proc[0]"
   ]
  },
  {
   "cell_type": "code",
   "execution_count": 19,
   "metadata": {},
   "outputs": [
    {
     "data": {
      "text/plain": [
       "12"
      ]
     },
     "execution_count": 19,
     "metadata": {},
     "output_type": "execute_result"
    }
   ],
   "source": [
    "len(X_tr_proc[0])"
   ]
  },
  {
   "cell_type": "code",
   "execution_count": 20,
   "metadata": {},
   "outputs": [
    {
     "data": {
      "text/plain": [
       "array(['x0_01', 'x0_02', 'x0_03'], dtype=object)"
      ]
     },
     "execution_count": 20,
     "metadata": {},
     "output_type": "execute_result"
    }
   ],
   "source": [
    "preprocessor1.named_transformers_['cat'].get_feature_names()"
   ]
  },
  {
   "cell_type": "code",
   "execution_count": 21,
   "metadata": {},
   "outputs": [],
   "source": [
    "p.pkl_this('Data/preprocess_wo_sub.pkl', preprocessor1)\n",
    "p.pkl_this('Data/preprocess_with_sub.pkl', preprocessor2)"
   ]
  },
  {
   "cell_type": "code",
   "execution_count": null,
   "metadata": {},
   "outputs": [],
   "source": []
  }
 ],
 "metadata": {
  "kernelspec": {
   "display_name": "Python 3",
   "language": "python",
   "name": "python3"
  },
  "language_info": {
   "codemirror_mode": {
    "name": "ipython",
    "version": 3
   },
   "file_extension": ".py",
   "mimetype": "text/x-python",
   "name": "python",
   "nbconvert_exporter": "python",
   "pygments_lexer": "ipython3",
   "version": "3.6.6"
  }
 },
 "nbformat": 4,
 "nbformat_minor": 2
}
