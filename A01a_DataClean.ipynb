{
 "cells": [
  {
   "cell_type": "code",
   "execution_count": 1,
   "metadata": {},
   "outputs": [
    {
     "name": "stderr",
     "output_type": "stream",
     "text": [
      "/Users/kendra/anaconda3/lib/python3.6/site-packages/sklearn/utils/fixes.py:313: FutureWarning: numpy not_equal will not check object identity in the future. The comparison did not return the same result as suggested by the identity (`is`)) and will change.\n",
      "  _nan_object_mask = _nan_object_array != _nan_object_array\n"
     ]
    }
   ],
   "source": [
    "import pandas as pd\n",
    "import pipeline as p\n",
    "%load_ext autoreload\n",
    "%autoreload 2\n",
    "\n",
    "import matplotlib.pyplot as plt\n",
    "import seaborn as sns"
   ]
  },
  {
   "cell_type": "code",
   "execution_count": 2,
   "metadata": {},
   "outputs": [],
   "source": [
    "pd.set_option('mode.chained_assignment', None)"
   ]
  },
  {
   "cell_type": "code",
   "execution_count": 3,
   "metadata": {},
   "outputs": [],
   "source": [
    "df = p.open_pkl('breast_2000-2015_df.pkl')"
   ]
  },
  {
   "cell_type": "code",
   "execution_count": 4,
   "metadata": {},
   "outputs": [],
   "source": [
    "# col_descr_dict = p.open_pkl('col_descr_dict.pkl')\n",
    "# col_lookup = {v:k for k, v in col_descr_dict.items()}"
   ]
  },
  {
   "cell_type": "code",
   "execution_count": 4,
   "metadata": {},
   "outputs": [],
   "source": [
    "def convert_to_num_nan(df, col, unk):\n",
    "    '''Converts col(str) in df(DataFrame) to numeric (integer)\n",
    "    Then converts values equal to 'unk'(str or int) in col to 'None' '''\n",
    "    df[col] = pd.to_numeric(df[col], errors='coerce')\n",
    "    return df[col].apply(lambda x: None if x == unk else x)"
   ]
  },
  {
   "cell_type": "code",
   "execution_count": 5,
   "metadata": {},
   "outputs": [],
   "source": [
    "def drop_unk(df, col, unk):\n",
    "    return df[col].apply(lambda x: None if x == unk else x)"
   ]
  },
  {
   "cell_type": "code",
   "execution_count": 6,
   "metadata": {},
   "outputs": [],
   "source": [
    "df['SRV_TIME_MON'] = convert_to_num_nan(df, 'SRV_TIME_MON', 9999)"
   ]
  },
  {
   "cell_type": "code",
   "execution_count": 7,
   "metadata": {},
   "outputs": [],
   "source": [
    "df['YEAR_DX'] = pd.to_numeric(df['YEAR_DX'])"
   ]
  },
  {
   "cell_type": "markdown",
   "metadata": {},
   "source": [
    "Calculation of\n",
    "Survival months = FLOOR((endpoint – date of diagnosis) / days in a month)\n",
    "\n",
    "So: Drop any record after Dec 2010 (< 60 mo before study cut-off). "
   ]
  },
  {
   "cell_type": "markdown",
   "metadata": {},
   "source": [
    "See: https://seer.cancer.gov/survivaltime/\n",
    "https://seer.cancer.gov/survivaltime/3-fields-survival-time-active.pdf"
   ]
  },
  {
   "cell_type": "code",
   "execution_count": 8,
   "metadata": {},
   "outputs": [],
   "source": [
    "df2 = df.drop(df[df['YEAR_DX'] > 2010].index)"
   ]
  },
  {
   "cell_type": "code",
   "execution_count": 14,
   "metadata": {},
   "outputs": [
    {
     "data": {
      "text/plain": [
       "387762"
      ]
     },
     "execution_count": 14,
     "metadata": {},
     "output_type": "execute_result"
    }
   ],
   "source": [
    "len(df2)"
   ]
  },
  {
   "cell_type": "markdown",
   "metadata": {},
   "source": [
    "### Create target classification"
   ]
  },
  {
   "cell_type": "code",
   "execution_count": 9,
   "metadata": {},
   "outputs": [],
   "source": [
    "df2['TARGET'] = df2['SRV_TIME_MON'].apply(lambda x: 1 if x >= 60 else 0)"
   ]
  },
  {
   "cell_type": "code",
   "execution_count": 11,
   "metadata": {},
   "outputs": [
    {
     "data": {
      "text/plain": [
       "1    0.790116\n",
       "0    0.209884\n",
       "Name: TARGET, dtype: float64"
      ]
     },
     "execution_count": 11,
     "metadata": {},
     "output_type": "execute_result"
    }
   ],
   "source": [
    "df2['TARGET'].value_counts(1)"
   ]
  },
  {
   "cell_type": "markdown",
   "metadata": {},
   "source": [
    "Be aware: target classification is imbalanced!"
   ]
  },
  {
   "cell_type": "markdown",
   "metadata": {},
   "source": [
    "**Flags**"
   ]
  },
  {
   "cell_type": "markdown",
   "metadata": {},
   "source": [
    "Survival Time Flag:\n",
    "- 0  = complete dates, days of survival = 0\n",
    "- 1 = complete dates, days of survival > 0\n",
    "- 2 = Incomplete dates, days of follow-up *could* = 0. \n",
    "- 3 = Incomplete dates, days of follow-up *cannot* = 0\n",
    "- 8 = not calc; death certificate / autopsy only"
   ]
  },
  {
   "cell_type": "code",
   "execution_count": 10,
   "metadata": {},
   "outputs": [],
   "source": [
    "df2['SRV_TIME_MON_FLAG'] = convert_to_num_nan(df2, 'SRV_TIME_MON_FLAG', 9)"
   ]
  },
  {
   "cell_type": "code",
   "execution_count": 13,
   "metadata": {},
   "outputs": [
    {
     "data": {
      "text/plain": [
       "1    373548\n",
       "3     11877\n",
       "8      1741\n",
       "0       432\n",
       "2       164\n",
       "Name: SRV_TIME_MON_FLAG, dtype: int64"
      ]
     },
     "execution_count": 13,
     "metadata": {},
     "output_type": "execute_result"
    }
   ],
   "source": [
    "df2['SRV_TIME_MON_FLAG'].value_counts()"
   ]
  },
  {
   "cell_type": "markdown",
   "metadata": {},
   "source": [
    "Drop any entries with incomplete dates, to be on the safe side"
   ]
  },
  {
   "cell_type": "code",
   "execution_count": 11,
   "metadata": {},
   "outputs": [],
   "source": [
    "df2 = df2.drop(df2[(df2['SRV_TIME_MON_FLAG'] == 2) | (df2['SRV_TIME_MON_FLAG'] == 3)].index)"
   ]
  },
  {
   "cell_type": "code",
   "execution_count": 20,
   "metadata": {},
   "outputs": [
    {
     "data": {
      "text/plain": [
       "375721"
      ]
     },
     "execution_count": 20,
     "metadata": {},
     "output_type": "execute_result"
    }
   ],
   "source": [
    "len(df2)"
   ]
  },
  {
   "cell_type": "markdown",
   "metadata": {},
   "source": [
    "### Select & Clean Feature Columns \n",
    "- convert to numeric, where possible\n",
    "- condense classes, where possible\n",
    "- convert 9, 99, etc to 'n/a'"
   ]
  },
  {
   "cell_type": "markdown",
   "metadata": {},
   "source": [
    "#### *Sequence number*"
   ]
  },
  {
   "cell_type": "markdown",
   "metadata": {},
   "source": [
    "Sequence number = # and sequence of tumors *in a given patient*. \n",
    "\n",
    "From codebookm pg 14: \n",
    ">\"The purpose of sequencing based on the patient’s lifetime is to truly identify the patients for survival analysis who only had one malignant primary in their lifetimes...This sequence number counts all tumors that were reportable in the year they were diagnosed even if the tumors occurred before the registry existed, or before the registry participated in the SEER Program\")\n",
    "\n",
    "- Keep only first entry for a given patient. \n",
    "- Include sequence number as a feature. Convert to numeric --> treat as ordinal\n",
    "Distributions of survival months & diagnosis year appear similar between sequence numbers.\n",
    "My interpretation of code book is that a seq num > 01 indicates that >1 tumor was found at time of diagnosis, so we can keep all numbers."
   ]
  },
  {
   "cell_type": "code",
   "execution_count": 12,
   "metadata": {},
   "outputs": [],
   "source": [
    "df3 = df2.drop_duplicates(subset='PUBCSNUM', keep='first')"
   ]
  },
  {
   "cell_type": "code",
   "execution_count": 13,
   "metadata": {},
   "outputs": [],
   "source": [
    "df3['SEQ_NUM'] = convert_to_num_nan(df3, 'SEQ_NUM', 99)"
   ]
  },
  {
   "cell_type": "code",
   "execution_count": 23,
   "metadata": {},
   "outputs": [
    {
     "name": "stdout",
     "output_type": "stream",
     "text": [
      "0     263627\n",
      "1      49718\n",
      "2      38668\n",
      "3       4416\n",
      "4        543\n",
      "5         74\n",
      "6          8\n",
      "50         1\n",
      "20         1\n",
      "8          1\n",
      "7          1\n",
      "Name: SEQ_NUM, dtype: int64\n"
     ]
    }
   ],
   "source": [
    "vcs(df3, 'SEQ_NUM')"
   ]
  },
  {
   "cell_type": "code",
   "execution_count": 24,
   "metadata": {},
   "outputs": [
    {
     "data": {
      "text/plain": [
       "357058"
      ]
     },
     "execution_count": 24,
     "metadata": {},
     "output_type": "execute_result"
    }
   ],
   "source": [
    "len(df3)"
   ]
  },
  {
   "cell_type": "markdown",
   "metadata": {},
   "source": [
    "**Primary Site** \n",
    "\n",
    "A str-nominal\n",
    "\n",
    "     C50.0    Nipple\n",
    "     C50.1    Central portion of breast\n",
    "     C50.2    Upper-inner quadrant of breast\n",
    "     C50.3    Lower-inner quadrant of breast\n",
    "     C50.4    Upper-outer quadrant of breast\n",
    "     C50.5    Lower-outer quadrant of breast\n",
    "     C50.6    Axillary tail of breast\n",
    "     C50.8    Overlapping lesion of breast\n",
    "     C50.9    Breast, NOS"
   ]
  },
  {
   "cell_type": "code",
   "execution_count": 25,
   "metadata": {},
   "outputs": [
    {
     "name": "stdout",
     "output_type": "stream",
     "text": [
      "C504    117692\n",
      "C508     72253\n",
      "C509     64066\n",
      "C502     34583\n",
      "C505     22786\n",
      "C501     21370\n",
      "C503     19362\n",
      "C500      2780\n",
      "C506      2166\n",
      "Name: PRIMSITE, dtype: int64\n"
     ]
    }
   ],
   "source": [
    "vcs(df3, 'PRIMSITE')"
   ]
  },
  {
   "cell_type": "markdown",
   "metadata": {},
   "source": [
    "**Age**"
   ]
  },
  {
   "cell_type": "code",
   "execution_count": 14,
   "metadata": {},
   "outputs": [],
   "source": [
    "df3['AGE_DX'] = convert_to_num_nan(df3, 'AGE_DX', 999)"
   ]
  },
  {
   "cell_type": "markdown",
   "metadata": {},
   "source": [
    "**Grade**\n",
    "\n",
    "Convert to numeric, to treat as ordinal.\n",
    "\n",
    "9 = not determined, not stated, or n/a. Drop these"
   ]
  },
  {
   "cell_type": "code",
   "execution_count": 15,
   "metadata": {},
   "outputs": [],
   "source": [
    "df3['GRADE'] = convert_to_num_nan(df3, 'GRADE', 9)"
   ]
  },
  {
   "cell_type": "code",
   "execution_count": 28,
   "metadata": {},
   "outputs": [
    {
     "name": "stdout",
     "output_type": "stream",
     "text": [
      "2.0    128271\n",
      "3.0    105325\n",
      "1.0     60140\n",
      "4.0     11068\n",
      "Name: GRADE, dtype: int64\n"
     ]
    }
   ],
   "source": [
    "vcs(df3, 'GRADE')"
   ]
  },
  {
   "cell_type": "markdown",
   "metadata": {},
   "source": [
    "**Tumor Size**\n",
    "\n",
    "- EOD10_SZ: only for cases 1998-2003\n",
    "- CSTUMSIZ: cases 2004 on\n",
    "\n",
    "Need to combine into 1 feature. Then drop:\n",
    "999 = unknown for both"
   ]
  },
  {
   "cell_type": "markdown",
   "metadata": {},
   "source": [
    "- 001-988 Exact size in millimeters\n",
    "- 989 989 millimeters or larger\n",
    "- 990 Microscopic focus or foci only; no size of focus is given\n",
    "- 991 Described as less than 1 cm\n",
    "- 992 Described as less than 2 cm\n",
    "- 993 Described as less than 3 cm\n",
    "- 994 Described as less than 4 cm\n",
    "- 995 Described as less than 5 cm\n",
    "- 996-998 Site-specific codes where needed\n",
    "- 999 Unknown; size not stated; not stated in patient record \n",
    "- 888             Not applicable"
   ]
  },
  {
   "cell_type": "code",
   "execution_count": 16,
   "metadata": {},
   "outputs": [],
   "source": [
    "def get_one_or_other(row, col1, col2, null_str):\n",
    "    if row[col1] == null_str:\n",
    "        return row[col2]\n",
    "    else:\n",
    "        return row[col1]"
   ]
  },
  {
   "cell_type": "code",
   "execution_count": 17,
   "metadata": {},
   "outputs": [],
   "source": [
    "ws = df3['EOD10_SZ'].value_counts().index[0]\n",
    "\n",
    "df3.loc[:,'TUMSIZ'] = df3.apply(lambda row: get_one_or_other(row, 'EOD10_SZ','CSTUMSIZ', ws), axis=1)\n",
    "df3.loc[:,'TUMSIZ'] = convert_to_num_nan(df3, 'TUMSIZ', 999)\n",
    "\n",
    "df3.drop(columns = ['EOD10_SZ', 'CSTUMSIZ'], inplace=True)\n",
    "\n",
    "df3['TUMSIZ'] = drop_unk(df3, 'TUMSIZ', 888)\n",
    "df3['TUMSIZ'] = drop_unk(df3, 'TUMSIZ', 990)\n",
    "df3['TUMSIZ'] = drop_unk(df3, 'TUMSIZ', 996)\n",
    "df3['TUMSIZ'] = drop_unk(df3, 'TUMSIZ', 997)\n",
    "df3['TUMSIZ'] = drop_unk(df3, 'TUMSIZ', 998)\n",
    "\n",
    "df3['TUMSIZ'] = df3['TUMSIZ'].apply(lambda x: x-990 if x >= 991 else x)"
   ]
  },
  {
   "cell_type": "code",
   "execution_count": 26,
   "metadata": {},
   "outputs": [
    {
     "data": {
      "text/plain": [
       "count    305725.000000\n",
       "mean         21.611798\n",
       "std          23.995470\n",
       "min           0.000000\n",
       "25%          10.000000\n",
       "50%          16.000000\n",
       "75%          25.000000\n",
       "max         989.000000\n",
       "Name: TUMSIZ, dtype: float64"
      ]
     },
     "execution_count": 26,
     "metadata": {},
     "output_type": "execute_result"
    }
   ],
   "source": [
    "df3['TUMSIZ'].describe()"
   ]
  },
  {
   "cell_type": "markdown",
   "metadata": {},
   "source": [
    "**Positive Nodes**\n",
    "\n",
    "- EOD10_PN: 1998+ Number of positive regional nodes found to contain metastases.\n",
    "- CSLYMPHN: 2004+ \"Information on involvement\". Don't include this one.\n",
    "\n",
    "Any value > 90 is 'n/a' for our purposes and can be dropped"
   ]
  },
  {
   "cell_type": "code",
   "execution_count": null,
   "metadata": {},
   "outputs": [],
   "source": [
    "df3['EOD10_PN'] = convert_to_num_nan(df3, 'EOD10_PN', 99)\n",
    "df3 = df3.drop(df3[df3['EOD10_PN'] > 90].index)\n",
    "df3.rename(columns={'EOD10_PN':'POS_NODES'}, inplace=True)"
   ]
  },
  {
   "cell_type": "code",
   "execution_count": 23,
   "metadata": {},
   "outputs": [],
   "source": [
    "df3['POS_NODES'].describe()"
   ]
  },
  {
   "cell_type": "markdown",
   "metadata": {},
   "source": [
    "**Surgery or not**\n",
    "\n",
    "'NO_SURG' column:\n",
    "- 0 = surgery performed\n",
    "- other = surgery not performed, and # = reason why\n",
    "- 8 = unknown if performed\n",
    "- 9 = unknown, death certficiate only\n",
    "\n",
    "Create new columns 'SURG' whose values indicate:\n",
    "- 1 = surgery was performed\n",
    "- 0 = surgery was not performed"
   ]
  },
  {
   "cell_type": "code",
   "execution_count": 27,
   "metadata": {},
   "outputs": [],
   "source": [
    "def surg_class(x):\n",
    "    if x == '0':\n",
    "        return 1\n",
    "    elif (x == '8') | (x == '9'):\n",
    "        return None\n",
    "    else:\n",
    "        return 0"
   ]
  },
  {
   "cell_type": "code",
   "execution_count": 28,
   "metadata": {},
   "outputs": [],
   "source": [
    "df3['SURG'] = df3['NO_SURG'].apply(lambda x: surg_class(x))"
   ]
  },
  {
   "cell_type": "code",
   "execution_count": 29,
   "metadata": {},
   "outputs": [
    {
     "data": {
      "text/plain": [
       "1.0    0.986628\n",
       "0.0    0.013372\n",
       "Name: SURG, dtype: float64"
      ]
     },
     "execution_count": 29,
     "metadata": {},
     "output_type": "execute_result"
    }
   ],
   "source": [
    "df3['SURG'].value_counts(1)"
   ]
  },
  {
   "cell_type": "markdown",
   "metadata": {},
   "source": [
    "**Marital Status**\n",
    "\n",
    "- 1 Single (never married)\n",
    "- 2 Married (including common law) \n",
    "- 3 Separated\n",
    "- 4 Divorced\n",
    "- 5 Widowed\n",
    "- 6 Unmarried or domestic partner (same sex or opposite sex or unregistered)\n",
    "- 9 Unknown\n",
    "\n",
    "Create new column: 'MAR_STAT_MOD'\n",
    "- 1 = Single\n",
    "- 2 = Married or domestic partner"
   ]
  },
  {
   "cell_type": "code",
   "execution_count": 30,
   "metadata": {},
   "outputs": [],
   "source": [
    "def marital_class(x):\n",
    "    if x == '9':\n",
    "        return None\n",
    "    elif (x == '2') | (x == '6'):\n",
    "        return int(1)\n",
    "    else:\n",
    "        return int(0)"
   ]
  },
  {
   "cell_type": "code",
   "execution_count": 31,
   "metadata": {},
   "outputs": [],
   "source": [
    "# df3['MAR_STAT_MOD'] = convert_to_num_nan(df3, 'MAR_STAT', 9)\n",
    "df3['MAR_STAT_MOD'] = df3['MAR_STAT'].apply(lambda x: marital_class(x))"
   ]
  },
  {
   "cell_type": "markdown",
   "metadata": {},
   "source": [
    "**Race**\n",
    "\n",
    "Convert to:\n",
    "- 1 = White\n",
    "- 2 = Black\n",
    "- 3 = other\n",
    "\n",
    "Note 99 = Unk"
   ]
  },
  {
   "cell_type": "code",
   "execution_count": 9,
   "metadata": {},
   "outputs": [
    {
     "data": {
      "text/plain": [
       "30"
      ]
     },
     "execution_count": 9,
     "metadata": {},
     "output_type": "execute_result"
    }
   ],
   "source": [
    "len(df3['RACE1V'].unique())"
   ]
  },
  {
   "cell_type": "code",
   "execution_count": 12,
   "metadata": {},
   "outputs": [],
   "source": [
    "def convert_race(x):\n",
    "    if (x == '01') | (x == '02'):\n",
    "        return x\n",
    "    elif x == '99':\n",
    "        return None\n",
    "    else:\n",
    "        return '3'"
   ]
  },
  {
   "cell_type": "code",
   "execution_count": 33,
   "metadata": {},
   "outputs": [],
   "source": [
    "df3['RACE_MOD'] = df3['RACE1V'].apply(lambda x: convert_race(x))"
   ]
  },
  {
   "cell_type": "code",
   "execution_count": 48,
   "metadata": {},
   "outputs": [
    {
     "data": {
      "text/plain": [
       "269951"
      ]
     },
     "execution_count": 48,
     "metadata": {},
     "output_type": "execute_result"
    }
   ],
   "source": [
    "len(df3)"
   ]
  },
  {
   "cell_type": "markdown",
   "metadata": {},
   "source": [
    "**Behavior**\n",
    "\n",
    "- 2 = noninvasive \n",
    "- 3 = invasive"
   ]
  },
  {
   "cell_type": "code",
   "execution_count": 35,
   "metadata": {},
   "outputs": [
    {
     "data": {
      "text/plain": [
       "3    250578\n",
       "2     19373\n",
       "Name: BEHO3V, dtype: int64"
      ]
     },
     "execution_count": 35,
     "metadata": {},
     "output_type": "execute_result"
    }
   ],
   "source": [
    "p.vcs(df3, 'BEHO3V')"
   ]
  },
  {
   "cell_type": "code",
   "execution_count": 36,
   "metadata": {},
   "outputs": [],
   "source": [
    "df3['INVAS'] = df3['BEHO3V'].apply(lambda x: 0 if x == '2' else 1)"
   ]
  },
  {
   "cell_type": "markdown",
   "metadata": {},
   "source": [
    "**Histology**"
   ]
  },
  {
   "cell_type": "code",
   "execution_count": 38,
   "metadata": {
    "collapsed": true
   },
   "outputs": [
    {
     "name": "stdout",
     "output_type": "stream",
     "text": [
      "8500    199068\n",
      "8520     21879\n",
      "8522     18553\n",
      "8480      5333\n",
      "8501      3311\n",
      "8010      3057\n",
      "8000      2624\n",
      "8211      2614\n",
      "8140      1804\n",
      "8201      1721\n",
      "8510      1596\n",
      "8530      1373\n",
      "8230      1149\n",
      "8503      1022\n",
      "8401       720\n",
      "8541       672\n",
      "8050       615\n",
      "8521       416\n",
      "8543       371\n",
      "8504       281\n",
      "8200       179\n",
      "9020       177\n",
      "8540       121\n",
      "8481       106\n",
      "8070       105\n",
      "8260        93\n",
      "8490        76\n",
      "8022        71\n",
      "8980        71\n",
      "8560        57\n",
      "         ...  \n",
      "8210         2\n",
      "8814         1\n",
      "8511         1\n",
      "8460         1\n",
      "8004         1\n",
      "8910         1\n",
      "8851         1\n",
      "8901         1\n",
      "9473         1\n",
      "8190         1\n",
      "8894         1\n",
      "8340         1\n",
      "8470         1\n",
      "8542         1\n",
      "8110         1\n",
      "8451         1\n",
      "8100         1\n",
      "8261         1\n",
      "8075         1\n",
      "8052         1\n",
      "8076         1\n",
      "8855         1\n",
      "9170         1\n",
      "8042         1\n",
      "9040         1\n",
      "8400         1\n",
      "8804         1\n",
      "8154         1\n",
      "8900         1\n",
      "8030         1\n",
      "Name: HISTO2V, Length: 108, dtype: int64\n"
     ]
    }
   ],
   "source": [
    "vcs(df3, 'HISTO2V')"
   ]
  },
  {
   "cell_type": "markdown",
   "metadata": {},
   "source": [
    "too many values -- do not include"
   ]
  },
  {
   "cell_type": "markdown",
   "metadata": {},
   "source": [
    "**Sub-type**\n",
    "\n",
    "BRST_SUB = Breast Sub-type: Her2+/- and HR+/-\n",
    "- 1         Her2+/HR+\n",
    "- 2     Her2+/HR-\n",
    "- 3       Her2-/HR+\n",
    "- 4 Triple Negative\n",
    "- 5         Unknown\n",
    "- 9 Not 2010+ Breast\n",
    "\n",
    "HER2 = Derived Her2 Recode: Her2 + or -\n",
    "- 1 = Pos\n",
    "- 2 = Neg\n",
    "- 3 = Borderline\n",
    "- 4 = Unk\n",
    "- 9 = Not 2010+ Breast (unclear what this means)"
   ]
  },
  {
   "cell_type": "code",
   "execution_count": 51,
   "metadata": {},
   "outputs": [
    {
     "name": "stdout",
     "output_type": "stream",
     "text": [
      "9    243824\n",
      "3     15868\n",
      "5      4191\n",
      "4      2750\n",
      "1      2289\n",
      "2      1029\n",
      "Name: BRST_SUB, dtype: int64\n"
     ]
    }
   ],
   "source": [
    "vcs(df3, 'BRST_SUB')"
   ]
  },
  {
   "cell_type": "code",
   "execution_count": 52,
   "metadata": {},
   "outputs": [
    {
     "name": "stdout",
     "output_type": "stream",
     "text": [
      "9    243824\n",
      "2     18669\n",
      "4      3553\n",
      "1      3334\n",
      "3       571\n",
      "Name: HER2, dtype: int64\n"
     ]
    }
   ],
   "source": [
    "vcs(df3, 'HER2')"
   ]
  },
  {
   "cell_type": "markdown",
   "metadata": {},
   "source": [
    "If I wanted to include cancer subtype information, I'd have to reduce my dataset size by 10-fold:"
   ]
  },
  {
   "cell_type": "code",
   "execution_count": 37,
   "metadata": {},
   "outputs": [
    {
     "data": {
      "text/plain": [
       "(21936, 269951)"
      ]
     },
     "execution_count": 37,
     "metadata": {},
     "output_type": "execute_result"
    }
   ],
   "source": [
    "len(df3[(df3['BRST_SUB'] != '9') & (df3['BRST_SUB'] != '5') & (df3['HER2'] != '9') & (df3['HER2'] != '4')]), len(df3)"
   ]
  },
  {
   "cell_type": "markdown",
   "metadata": {},
   "source": [
    "Is HER2 redundant with BRST_SUB?"
   ]
  },
  {
   "cell_type": "code",
   "execution_count": 26,
   "metadata": {},
   "outputs": [],
   "source": [
    "len(df5[(df5['BRST_SUB'] == '1')|(df5['BRST_SUB'] == '2') & \n",
    "        (df5['HER2'] == 1)]) == len(df5[(df5['BRST_SUB'] == '1')|(df5['BRST_SUB'] == '2')])"
   ]
  },
  {
   "cell_type": "code",
   "execution_count": null,
   "metadata": {},
   "outputs": [],
   "source": [
    "len(df5[(df5['BRST_SUB'] == '3')|(df5['BRST_SUB'] == '4') \n",
    "        & (df5['HER2'] == 0)]) == len(df5[(df5['BRST_SUB'] == '3')|(df5['BRST_SUB'] == '4')])"
   ]
  },
  {
   "cell_type": "markdown",
   "metadata": {},
   "source": [
    "Yes -- can drop HER2 and keep only BRST_SUB"
   ]
  },
  {
   "cell_type": "code",
   "execution_count": 38,
   "metadata": {},
   "outputs": [],
   "source": [
    "df5 = df3.copy()\n",
    "df5 = df5.drop(df5[(df5['BRST_SUB'] == '9') | (df5['BRST_SUB'] == '5')].index)"
   ]
  },
  {
   "cell_type": "markdown",
   "metadata": {},
   "source": [
    "### Save 'cleaned' dataset"
   ]
  },
  {
   "cell_type": "code",
   "execution_count": 55,
   "metadata": {},
   "outputs": [],
   "source": [
    "# df3 = p.open_pkl('breast_2000-2015_df3.pkl')\n",
    "p.pkl_this('Data/breast_2000-2015_df_cleaned1.pkl', df3)"
   ]
  },
  {
   "cell_type": "markdown",
   "metadata": {},
   "source": [
    "### 'Final' list of columns to include in model"
   ]
  },
  {
   "cell_type": "code",
   "execution_count": 57,
   "metadata": {},
   "outputs": [],
   "source": [
    "cols_to_include = ['MAR_STAT_MOD',\n",
    "                   'RACE_MOD',\n",
    "                   'AGE_DX',\n",
    "                   'GRADE',\n",
    "                   'TUMSIZ',\n",
    "                   'SURG',\n",
    "                   'SEQ_NUM',\n",
    "                   'PRIMSITE',\n",
    "                   'POS_NODES',\n",
    "                  'INVAS'] "
   ]
  },
  {
   "cell_type": "code",
   "execution_count": 58,
   "metadata": {},
   "outputs": [],
   "source": [
    "p.pkl_this('Data/model_cols', cols_to_include)\n"
   ]
  },
  {
   "cell_type": "code",
   "execution_count": 59,
   "metadata": {},
   "outputs": [],
   "source": [
    "df4 = df3[cols_to_include + ['TARGET']]"
   ]
  },
  {
   "cell_type": "code",
   "execution_count": 60,
   "metadata": {},
   "outputs": [
    {
     "data": {
      "text/plain": [
       "MAR_STAT_MOD    float64\n",
       "RACE_MOD         object\n",
       "AGE_DX          float64\n",
       "GRADE           float64\n",
       "TUMSIZ          float64\n",
       "SURG            float64\n",
       "SEQ_NUM           int64\n",
       "PRIMSITE         object\n",
       "POS_NODES       float64\n",
       "INVAS             int64\n",
       "TARGET            int64\n",
       "dtype: object"
      ]
     },
     "execution_count": 60,
     "metadata": {},
     "output_type": "execute_result"
    }
   ],
   "source": [
    "df4.dtypes"
   ]
  },
  {
   "cell_type": "code",
   "execution_count": 61,
   "metadata": {},
   "outputs": [],
   "source": [
    "df4 = df4.dropna()"
   ]
  },
  {
   "cell_type": "code",
   "execution_count": 62,
   "metadata": {},
   "outputs": [
    {
     "data": {
      "text/plain": [
       "222302"
      ]
     },
     "execution_count": 62,
     "metadata": {},
     "output_type": "execute_result"
    }
   ],
   "source": [
    "len(df4)"
   ]
  },
  {
   "cell_type": "code",
   "execution_count": 63,
   "metadata": {},
   "outputs": [],
   "source": [
    "p.pkl_this('Data/breast_mvp_01_df.pkl', df4)"
   ]
  },
  {
   "cell_type": "markdown",
   "metadata": {},
   "source": [
    "**Data frame including Her2 sub-type info**"
   ]
  },
  {
   "cell_type": "code",
   "execution_count": 42,
   "metadata": {},
   "outputs": [],
   "source": [
    "cols_to_include2 = ['MAR_STAT_MOD',\n",
    "                   'RACE_MOD',\n",
    "                   'AGE_DX',\n",
    "                   'GRADE',\n",
    "                   'TUMSIZ',\n",
    "                   'SURG',\n",
    "                   'SEQ_NUM',\n",
    "                   'PRIMSITE',\n",
    "                   'POS_NODES',\n",
    "                    'HER2',\n",
    "                    'BRST_SUB',\n",
    "                   'INVAS']"
   ]
  },
  {
   "cell_type": "code",
   "execution_count": 65,
   "metadata": {},
   "outputs": [],
   "source": [
    "# p.pkl_this('Data/model_cols_with_subtype.pkl', cols_to_include2)\n"
   ]
  },
  {
   "cell_type": "code",
   "execution_count": 43,
   "metadata": {},
   "outputs": [],
   "source": [
    "df6 = df5[cols_to_include2 + ['TARGET']]\n"
   ]
  },
  {
   "cell_type": "code",
   "execution_count": 44,
   "metadata": {},
   "outputs": [],
   "source": [
    "df6 = df6.dropna()\n"
   ]
  },
  {
   "cell_type": "code",
   "execution_count": 45,
   "metadata": {},
   "outputs": [
    {
     "data": {
      "text/html": [
       "<div>\n",
       "<style scoped>\n",
       "    .dataframe tbody tr th:only-of-type {\n",
       "        vertical-align: middle;\n",
       "    }\n",
       "\n",
       "    .dataframe tbody tr th {\n",
       "        vertical-align: top;\n",
       "    }\n",
       "\n",
       "    .dataframe thead th {\n",
       "        text-align: right;\n",
       "    }\n",
       "</style>\n",
       "<table border=\"1\" class=\"dataframe\">\n",
       "  <thead>\n",
       "    <tr style=\"text-align: right;\">\n",
       "      <th></th>\n",
       "      <th>MAR_STAT_MOD</th>\n",
       "      <th>RACE_MOD</th>\n",
       "      <th>AGE_DX</th>\n",
       "      <th>GRADE</th>\n",
       "      <th>TUMSIZ</th>\n",
       "      <th>SURG</th>\n",
       "      <th>SEQ_NUM</th>\n",
       "      <th>PRIMSITE</th>\n",
       "      <th>POS_NODES</th>\n",
       "      <th>HER2</th>\n",
       "      <th>BRST_SUB</th>\n",
       "      <th>INVAS</th>\n",
       "      <th>TARGET</th>\n",
       "    </tr>\n",
       "  </thead>\n",
       "  <tbody>\n",
       "    <tr>\n",
       "      <th>589</th>\n",
       "      <td>0.0</td>\n",
       "      <td>3</td>\n",
       "      <td>72.0</td>\n",
       "      <td>3.0</td>\n",
       "      <td>17.0</td>\n",
       "      <td>1.0</td>\n",
       "      <td>0</td>\n",
       "      <td>C504</td>\n",
       "      <td>0.0</td>\n",
       "      <td>0</td>\n",
       "      <td>3</td>\n",
       "      <td>1</td>\n",
       "      <td>1</td>\n",
       "    </tr>\n",
       "    <tr>\n",
       "      <th>688</th>\n",
       "      <td>1.0</td>\n",
       "      <td>3</td>\n",
       "      <td>72.0</td>\n",
       "      <td>2.0</td>\n",
       "      <td>15.0</td>\n",
       "      <td>1.0</td>\n",
       "      <td>2</td>\n",
       "      <td>C504</td>\n",
       "      <td>0.0</td>\n",
       "      <td>0</td>\n",
       "      <td>3</td>\n",
       "      <td>1</td>\n",
       "      <td>1</td>\n",
       "    </tr>\n",
       "    <tr>\n",
       "      <th>1108</th>\n",
       "      <td>0.0</td>\n",
       "      <td>3</td>\n",
       "      <td>56.0</td>\n",
       "      <td>3.0</td>\n",
       "      <td>24.0</td>\n",
       "      <td>1.0</td>\n",
       "      <td>3</td>\n",
       "      <td>C508</td>\n",
       "      <td>9.0</td>\n",
       "      <td>0</td>\n",
       "      <td>3</td>\n",
       "      <td>1</td>\n",
       "      <td>0</td>\n",
       "    </tr>\n",
       "    <tr>\n",
       "      <th>1267</th>\n",
       "      <td>0.0</td>\n",
       "      <td>3</td>\n",
       "      <td>85.0</td>\n",
       "      <td>3.0</td>\n",
       "      <td>8.0</td>\n",
       "      <td>1.0</td>\n",
       "      <td>2</td>\n",
       "      <td>C508</td>\n",
       "      <td>0.0</td>\n",
       "      <td>0</td>\n",
       "      <td>3</td>\n",
       "      <td>1</td>\n",
       "      <td>1</td>\n",
       "    </tr>\n",
       "    <tr>\n",
       "      <th>1702</th>\n",
       "      <td>0.0</td>\n",
       "      <td>3</td>\n",
       "      <td>83.0</td>\n",
       "      <td>1.0</td>\n",
       "      <td>11.0</td>\n",
       "      <td>1.0</td>\n",
       "      <td>2</td>\n",
       "      <td>C508</td>\n",
       "      <td>0.0</td>\n",
       "      <td>0</td>\n",
       "      <td>3</td>\n",
       "      <td>1</td>\n",
       "      <td>1</td>\n",
       "    </tr>\n",
       "  </tbody>\n",
       "</table>\n",
       "</div>"
      ],
      "text/plain": [
       "      MAR_STAT_MOD RACE_MOD  AGE_DX  GRADE  TUMSIZ  SURG  SEQ_NUM PRIMSITE  \\\n",
       "589            0.0        3    72.0    3.0    17.0   1.0        0     C504   \n",
       "688            1.0        3    72.0    2.0    15.0   1.0        2     C504   \n",
       "1108           0.0        3    56.0    3.0    24.0   1.0        3     C508   \n",
       "1267           0.0        3    85.0    3.0     8.0   1.0        2     C508   \n",
       "1702           0.0        3    83.0    1.0    11.0   1.0        2     C508   \n",
       "\n",
       "      POS_NODES  HER2 BRST_SUB  INVAS  TARGET  \n",
       "589         0.0     0        3      1       1  \n",
       "688         0.0     0        3      1       1  \n",
       "1108        9.0     0        3      1       0  \n",
       "1267        0.0     0        3      1       1  \n",
       "1702        0.0     0        3      1       1  "
      ]
     },
     "execution_count": 45,
     "metadata": {},
     "output_type": "execute_result"
    }
   ],
   "source": [
    "df6.head()\n"
   ]
  },
  {
   "cell_type": "code",
   "execution_count": 75,
   "metadata": {},
   "outputs": [
    {
     "data": {
      "text/plain": [
       "19671"
      ]
     },
     "execution_count": 75,
     "metadata": {},
     "output_type": "execute_result"
    }
   ],
   "source": [
    "len(df6)\n"
   ]
  },
  {
   "cell_type": "code",
   "execution_count": 46,
   "metadata": {},
   "outputs": [],
   "source": [
    "p.pkl_this('Data/breast_mvp_df_with_sub.pkl', df6)\n"
   ]
  },
  {
   "cell_type": "code",
   "execution_count": null,
   "metadata": {},
   "outputs": [],
   "source": []
  }
 ],
 "metadata": {
  "kernelspec": {
   "display_name": "Python 3",
   "language": "python",
   "name": "python3"
  },
  "language_info": {
   "codemirror_mode": {
    "name": "ipython",
    "version": 3
   },
   "file_extension": ".py",
   "mimetype": "text/x-python",
   "name": "python",
   "nbconvert_exporter": "python",
   "pygments_lexer": "ipython3",
   "version": "3.6.6"
  }
 },
 "nbformat": 4,
 "nbformat_minor": 2
}
