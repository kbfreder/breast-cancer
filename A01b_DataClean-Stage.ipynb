{
 "cells": [
  {
   "cell_type": "code",
   "execution_count": 1,
   "metadata": {},
   "outputs": [
    {
     "name": "stderr",
     "output_type": "stream",
     "text": [
      "/Users/kendra/anaconda3/lib/python3.6/site-packages/sklearn/utils/fixes.py:313: FutureWarning: numpy not_equal will not check object identity in the future. The comparison did not return the same result as suggested by the identity (`is`)) and will change.\n",
      "  _nan_object_mask = _nan_object_array != _nan_object_array\n"
     ]
    }
   ],
   "source": [
    "import pandas as pd\n",
    "import pipeline as p\n",
    "%load_ext autoreload\n",
    "%autoreload 2\n",
    "\n",
    "import matplotlib.pyplot as plt\n",
    "import seaborn as sns"
   ]
  },
  {
   "cell_type": "code",
   "execution_count": 2,
   "metadata": {},
   "outputs": [],
   "source": [
    "import cleaning as c"
   ]
  },
  {
   "cell_type": "code",
   "execution_count": 3,
   "metadata": {},
   "outputs": [],
   "source": [
    "pd.set_option('mode.chained_assignment', None)"
   ]
  },
  {
   "cell_type": "code",
   "execution_count": 4,
   "metadata": {},
   "outputs": [],
   "source": [
    "df = p.open_pkl('breast_2000-2015_df.pkl')"
   ]
  },
  {
   "cell_type": "code",
   "execution_count": 5,
   "metadata": {},
   "outputs": [],
   "source": [
    "# col_descr_dict = p.open_pkl('col_descr_dict.pkl')\n",
    "# col_lookup = {v:k for k, v in col_descr_dict.items()}"
   ]
  },
  {
   "cell_type": "code",
   "execution_count": 5,
   "metadata": {},
   "outputs": [],
   "source": [
    "df3 = c.clean_df2(df)"
   ]
  },
  {
   "cell_type": "code",
   "execution_count": 6,
   "metadata": {},
   "outputs": [
    {
     "data": {
      "text/html": [
       "<div>\n",
       "<style scoped>\n",
       "    .dataframe tbody tr th:only-of-type {\n",
       "        vertical-align: middle;\n",
       "    }\n",
       "\n",
       "    .dataframe tbody tr th {\n",
       "        vertical-align: top;\n",
       "    }\n",
       "\n",
       "    .dataframe thead th {\n",
       "        text-align: right;\n",
       "    }\n",
       "</style>\n",
       "<table border=\"1\" class=\"dataframe\">\n",
       "  <thead>\n",
       "    <tr style=\"text-align: right;\">\n",
       "      <th></th>\n",
       "      <th>PUBCSNUM</th>\n",
       "      <th>REG</th>\n",
       "      <th>MAR_STAT</th>\n",
       "      <th>RACE1V</th>\n",
       "      <th>NHIADE</th>\n",
       "      <th>SEX</th>\n",
       "      <th>AGE_DX</th>\n",
       "      <th>YR_BRTH</th>\n",
       "      <th>SEQ_NUM</th>\n",
       "      <th>MDXRECMP</th>\n",
       "      <th>...</th>\n",
       "      <th>N_VALUE</th>\n",
       "      <th>M_VALUE</th>\n",
       "      <th>MALIGCOUNT</th>\n",
       "      <th>BENBORDCOUNT</th>\n",
       "      <th>TARGET</th>\n",
       "      <th>TUMSIZ</th>\n",
       "      <th>SURG</th>\n",
       "      <th>MAR_STAT_MOD</th>\n",
       "      <th>RACE_MOD</th>\n",
       "      <th>INVAS</th>\n",
       "    </tr>\n",
       "  </thead>\n",
       "  <tbody>\n",
       "    <tr>\n",
       "      <th>0</th>\n",
       "      <td>92500005</td>\n",
       "      <td>0000001544</td>\n",
       "      <td>2</td>\n",
       "      <td>01</td>\n",
       "      <td>0</td>\n",
       "      <td>2</td>\n",
       "      <td>45.0</td>\n",
       "      <td>1962</td>\n",
       "      <td>0</td>\n",
       "      <td>01</td>\n",
       "      <td>...</td>\n",
       "      <td></td>\n",
       "      <td></td>\n",
       "      <td>01</td>\n",
       "      <td>00</td>\n",
       "      <td>1</td>\n",
       "      <td>40.0</td>\n",
       "      <td>1.0</td>\n",
       "      <td>1.0</td>\n",
       "      <td>3</td>\n",
       "      <td>1</td>\n",
       "    </tr>\n",
       "    <tr>\n",
       "      <th>1</th>\n",
       "      <td>92500010</td>\n",
       "      <td>0000001544</td>\n",
       "      <td>1</td>\n",
       "      <td>02</td>\n",
       "      <td>0</td>\n",
       "      <td>2</td>\n",
       "      <td>49.0</td>\n",
       "      <td>1958</td>\n",
       "      <td>0</td>\n",
       "      <td>02</td>\n",
       "      <td>...</td>\n",
       "      <td></td>\n",
       "      <td></td>\n",
       "      <td>01</td>\n",
       "      <td>00</td>\n",
       "      <td>1</td>\n",
       "      <td>50.0</td>\n",
       "      <td>1.0</td>\n",
       "      <td>0.0</td>\n",
       "      <td>3</td>\n",
       "      <td>1</td>\n",
       "    </tr>\n",
       "    <tr>\n",
       "      <th>2</th>\n",
       "      <td>92500017</td>\n",
       "      <td>0000001544</td>\n",
       "      <td>4</td>\n",
       "      <td>01</td>\n",
       "      <td>0</td>\n",
       "      <td>2</td>\n",
       "      <td>65.0</td>\n",
       "      <td>1942</td>\n",
       "      <td>1</td>\n",
       "      <td>01</td>\n",
       "      <td>...</td>\n",
       "      <td></td>\n",
       "      <td></td>\n",
       "      <td>02</td>\n",
       "      <td>00</td>\n",
       "      <td>1</td>\n",
       "      <td>NaN</td>\n",
       "      <td>1.0</td>\n",
       "      <td>0.0</td>\n",
       "      <td>3</td>\n",
       "      <td>0</td>\n",
       "    </tr>\n",
       "    <tr>\n",
       "      <th>4</th>\n",
       "      <td>92500024</td>\n",
       "      <td>0000001544</td>\n",
       "      <td>2</td>\n",
       "      <td>01</td>\n",
       "      <td>0</td>\n",
       "      <td>2</td>\n",
       "      <td>69.0</td>\n",
       "      <td>1938</td>\n",
       "      <td>0</td>\n",
       "      <td>01</td>\n",
       "      <td>...</td>\n",
       "      <td></td>\n",
       "      <td></td>\n",
       "      <td>01</td>\n",
       "      <td>00</td>\n",
       "      <td>1</td>\n",
       "      <td>15.0</td>\n",
       "      <td>1.0</td>\n",
       "      <td>1.0</td>\n",
       "      <td>3</td>\n",
       "      <td>1</td>\n",
       "    </tr>\n",
       "    <tr>\n",
       "      <th>5</th>\n",
       "      <td>92500032</td>\n",
       "      <td>0000001544</td>\n",
       "      <td>2</td>\n",
       "      <td>02</td>\n",
       "      <td>0</td>\n",
       "      <td>2</td>\n",
       "      <td>65.0</td>\n",
       "      <td>1942</td>\n",
       "      <td>1</td>\n",
       "      <td>01</td>\n",
       "      <td>...</td>\n",
       "      <td></td>\n",
       "      <td></td>\n",
       "      <td>02</td>\n",
       "      <td>00</td>\n",
       "      <td>1</td>\n",
       "      <td>34.0</td>\n",
       "      <td>1.0</td>\n",
       "      <td>1.0</td>\n",
       "      <td>3</td>\n",
       "      <td>1</td>\n",
       "    </tr>\n",
       "  </tbody>\n",
       "</table>\n",
       "<p>5 rows × 137 columns</p>\n",
       "</div>"
      ],
      "text/plain": [
       "   PUBCSNUM         REG MAR_STAT RACE1V NHIADE SEX  AGE_DX YR_BRTH  SEQ_NUM  \\\n",
       "0  92500005  0000001544        2     01      0   2    45.0    1962        0   \n",
       "1  92500010  0000001544        1     02      0   2    49.0    1958        0   \n",
       "2  92500017  0000001544        4     01      0   2    65.0    1942        1   \n",
       "4  92500024  0000001544        2     01      0   2    69.0    1938        0   \n",
       "5  92500032  0000001544        2     02      0   2    65.0    1942        1   \n",
       "\n",
       "  MDXRECMP  ...   N_VALUE M_VALUE MALIGCOUNT BENBORDCOUNT TARGET TUMSIZ SURG  \\\n",
       "0       01  ...                           01           00      1   40.0  1.0   \n",
       "1       02  ...                           01           00      1   50.0  1.0   \n",
       "2       01  ...                           02           00      1    NaN  1.0   \n",
       "4       01  ...                           01           00      1   15.0  1.0   \n",
       "5       01  ...                           02           00      1   34.0  1.0   \n",
       "\n",
       "   MAR_STAT_MOD RACE_MOD INVAS  \n",
       "0           1.0        3     1  \n",
       "1           0.0        3     1  \n",
       "2           0.0        3     0  \n",
       "4           1.0        3     1  \n",
       "5           1.0        3     1  \n",
       "\n",
       "[5 rows x 137 columns]"
      ]
     },
     "execution_count": 6,
     "metadata": {},
     "output_type": "execute_result"
    }
   ],
   "source": [
    "df3.head()"
   ]
  },
  {
   "cell_type": "markdown",
   "metadata": {},
   "source": [
    "**Stage**"
   ]
  },
  {
   "cell_type": "markdown",
   "metadata": {},
   "source": [
    "Dervied AJCC-6\n",
    "- 00: Stage 0\n",
    "- 10: Stage I\n",
    "- 32: Stage IIA\n",
    "- 33: Stage IIB\n",
    "- 51-53: Stage III\n",
    "- 70: Stage IV\n",
    "- 88: N/A"
   ]
  },
  {
   "cell_type": "code",
   "execution_count": 9,
   "metadata": {},
   "outputs": [
    {
     "data": {
      "text/plain": [
       "      93839\n",
       "10    75420\n",
       "32    38971\n",
       "33    17185\n",
       "00    14401\n",
       "52    11573\n",
       "99     6214\n",
       "54     5463\n",
       "70     3412\n",
       "53     3169\n",
       "51      176\n",
       "88      128\n",
       "Name: DAJCCSTG, dtype: int64"
      ]
     },
     "execution_count": 9,
     "metadata": {},
     "output_type": "execute_result"
    }
   ],
   "source": [
    "p.vcs(df3,'DAJCCSTG')"
   ]
  },
  {
   "cell_type": "code",
   "execution_count": 16,
   "metadata": {},
   "outputs": [],
   "source": [
    "def convert_stage_dajcc(x):\n",
    "    if (x == '00'):\n",
    "        return 0\n",
    "    elif x == '10':\n",
    "        return 1\n",
    "    elif (x == '32') | (x == '33'):\n",
    "        return 2\n",
    "    elif (x == '51') | (x == '52') | (x == '53'):\n",
    "        return 3\n",
    "    elif x == '70':\n",
    "        return 4\n",
    "    else:\n",
    "        return None"
   ]
  },
  {
   "cell_type": "code",
   "execution_count": 17,
   "metadata": {},
   "outputs": [],
   "source": [
    "df3['DAJCCSTG'] = df3['DAJCCSTG'].apply(lambda x: convert_stage_dajcc(x))"
   ]
  },
  {
   "cell_type": "code",
   "execution_count": 18,
   "metadata": {},
   "outputs": [
    {
     "data": {
      "text/plain": [
       "1.0    75420\n",
       "2.0    56156\n",
       "3.0    14918\n",
       "0.0    14401\n",
       "4.0     3412\n",
       "Name: DAJCCSTG, dtype: int64"
      ]
     },
     "execution_count": 18,
     "metadata": {},
     "output_type": "execute_result"
    }
   ],
   "source": [
    "p.vcs(df3,'DAJCCSTG')"
   ]
  },
  {
   "cell_type": "markdown",
   "metadata": {},
   "source": [
    "DERIVED SS2000\n",
    "\n",
    "- 0         In Situ\n",
    "- 1       Localized\n",
    "- 2 Regional, direct extension\n",
    "- 3 Regional, lymph nodes only\n",
    "- 4 Regional, extension and nodes 5   Regional, NOS\n",
    "- 7       Distant\n",
    "- 8 Not applicable\n",
    "- 9             Unknown/Unstaged"
   ]
  },
  {
   "cell_type": "code",
   "execution_count": 7,
   "metadata": {},
   "outputs": [
    {
     "data": {
      "text/plain": [
       "1    100707\n",
       "      93839\n",
       "3     44678\n",
       "0     14247\n",
       "4      7411\n",
       "7      3649\n",
       "2      2758\n",
       "9      2662\n",
       "Name: DSS2000S, dtype: int64"
      ]
     },
     "execution_count": 7,
     "metadata": {},
     "output_type": "execute_result"
    }
   ],
   "source": [
    "p.vcs(df3,'DSS2000S')"
   ]
  },
  {
   "cell_type": "markdown",
   "metadata": {},
   "source": [
    "SUMM2K: SEER Summary Stage 2000\n",
    "\n",
    "- 0 In situ\n",
    "- 1 Localized only\n",
    "- 2 Regional by direct extension only\n",
    "- 3 Regional lymph nodes involved only\n",
    "- 4 Regional by both direct extension and lymph\n",
    "- 5 Regional, NOS\n",
    "- 7 Distant site(s)/node(s) involved\n",
    "- 9 Unknown/unstaged/unspecified/DCO"
   ]
  },
  {
   "cell_type": "code",
   "execution_count": 13,
   "metadata": {},
   "outputs": [
    {
     "data": {
      "text/plain": [
       "1    153775\n",
       "2     86587\n",
       "0     19373\n",
       "7      5198\n",
       "9      5018\n",
       "Name: SUMM2K, dtype: int64"
      ]
     },
     "execution_count": 13,
     "metadata": {},
     "output_type": "execute_result"
    }
   ],
   "source": [
    "p.vcs(df3,'SUMM2K')"
   ]
  },
  {
   "cell_type": "markdown",
   "metadata": {},
   "source": [
    "HST_STGA: SEER Historic Stage A. A simplified version of stage\n",
    "- 0 In Situ (non-invasive)\n",
    "- 1 Localized (invasive)\n",
    "- 2 Regional\n",
    "- 4 Distant \n",
    "- 9 Unstaged"
   ]
  },
  {
   "cell_type": "code",
   "execution_count": 10,
   "metadata": {},
   "outputs": [
    {
     "data": {
      "text/plain": [
       "1    153774\n",
       "2     84051\n",
       "0     19373\n",
       "4      8045\n",
       "9      4708\n",
       "Name: HST_STGA, dtype: int64"
      ]
     },
     "execution_count": 10,
     "metadata": {},
     "output_type": "execute_result"
    }
   ],
   "source": [
    "p.vcs(df3,'HST_STGA')"
   ]
  },
  {
   "cell_type": "code",
   "execution_count": 19,
   "metadata": {},
   "outputs": [
    {
     "data": {
      "text/html": [
       "<div>\n",
       "<style scoped>\n",
       "    .dataframe tbody tr th:only-of-type {\n",
       "        vertical-align: middle;\n",
       "    }\n",
       "\n",
       "    .dataframe tbody tr th {\n",
       "        vertical-align: top;\n",
       "    }\n",
       "\n",
       "    .dataframe thead th {\n",
       "        text-align: right;\n",
       "    }\n",
       "</style>\n",
       "<table border=\"1\" class=\"dataframe\">\n",
       "  <thead>\n",
       "    <tr style=\"text-align: right;\">\n",
       "      <th></th>\n",
       "      <th>DAJCCSTG</th>\n",
       "      <th>DSS2000S</th>\n",
       "      <th>SUMM2K</th>\n",
       "      <th>HST_STGA</th>\n",
       "    </tr>\n",
       "  </thead>\n",
       "  <tbody>\n",
       "    <tr>\n",
       "      <th>367221</th>\n",
       "      <td>1.0</td>\n",
       "      <td>1</td>\n",
       "      <td>1</td>\n",
       "      <td>1</td>\n",
       "    </tr>\n",
       "    <tr>\n",
       "      <th>344154</th>\n",
       "      <td>2.0</td>\n",
       "      <td>1</td>\n",
       "      <td>1</td>\n",
       "      <td>1</td>\n",
       "    </tr>\n",
       "    <tr>\n",
       "      <th>109012</th>\n",
       "      <td>NaN</td>\n",
       "      <td></td>\n",
       "      <td>0</td>\n",
       "      <td>0</td>\n",
       "    </tr>\n",
       "    <tr>\n",
       "      <th>469854</th>\n",
       "      <td>NaN</td>\n",
       "      <td></td>\n",
       "      <td>0</td>\n",
       "      <td>0</td>\n",
       "    </tr>\n",
       "    <tr>\n",
       "      <th>322308</th>\n",
       "      <td>NaN</td>\n",
       "      <td></td>\n",
       "      <td>1</td>\n",
       "      <td>1</td>\n",
       "    </tr>\n",
       "    <tr>\n",
       "      <th>173468</th>\n",
       "      <td>2.0</td>\n",
       "      <td>1</td>\n",
       "      <td>1</td>\n",
       "      <td>1</td>\n",
       "    </tr>\n",
       "    <tr>\n",
       "      <th>318596</th>\n",
       "      <td>NaN</td>\n",
       "      <td></td>\n",
       "      <td>1</td>\n",
       "      <td>1</td>\n",
       "    </tr>\n",
       "    <tr>\n",
       "      <th>452753</th>\n",
       "      <td>NaN</td>\n",
       "      <td>9</td>\n",
       "      <td>9</td>\n",
       "      <td>9</td>\n",
       "    </tr>\n",
       "    <tr>\n",
       "      <th>405962</th>\n",
       "      <td>NaN</td>\n",
       "      <td></td>\n",
       "      <td>2</td>\n",
       "      <td>2</td>\n",
       "    </tr>\n",
       "    <tr>\n",
       "      <th>179429</th>\n",
       "      <td>1.0</td>\n",
       "      <td>1</td>\n",
       "      <td>1</td>\n",
       "      <td>1</td>\n",
       "    </tr>\n",
       "    <tr>\n",
       "      <th>1236</th>\n",
       "      <td>1.0</td>\n",
       "      <td>1</td>\n",
       "      <td>1</td>\n",
       "      <td>1</td>\n",
       "    </tr>\n",
       "    <tr>\n",
       "      <th>299841</th>\n",
       "      <td>NaN</td>\n",
       "      <td></td>\n",
       "      <td>1</td>\n",
       "      <td>1</td>\n",
       "    </tr>\n",
       "    <tr>\n",
       "      <th>100007</th>\n",
       "      <td>NaN</td>\n",
       "      <td></td>\n",
       "      <td>1</td>\n",
       "      <td>1</td>\n",
       "    </tr>\n",
       "    <tr>\n",
       "      <th>314452</th>\n",
       "      <td>NaN</td>\n",
       "      <td></td>\n",
       "      <td>1</td>\n",
       "      <td>1</td>\n",
       "    </tr>\n",
       "    <tr>\n",
       "      <th>275784</th>\n",
       "      <td>NaN</td>\n",
       "      <td></td>\n",
       "      <td>1</td>\n",
       "      <td>1</td>\n",
       "    </tr>\n",
       "    <tr>\n",
       "      <th>350327</th>\n",
       "      <td>1.0</td>\n",
       "      <td>1</td>\n",
       "      <td>1</td>\n",
       "      <td>1</td>\n",
       "    </tr>\n",
       "    <tr>\n",
       "      <th>5437</th>\n",
       "      <td>3.0</td>\n",
       "      <td>3</td>\n",
       "      <td>2</td>\n",
       "      <td>2</td>\n",
       "    </tr>\n",
       "    <tr>\n",
       "      <th>462391</th>\n",
       "      <td>NaN</td>\n",
       "      <td></td>\n",
       "      <td>0</td>\n",
       "      <td>0</td>\n",
       "    </tr>\n",
       "    <tr>\n",
       "      <th>98776</th>\n",
       "      <td>1.0</td>\n",
       "      <td>1</td>\n",
       "      <td>1</td>\n",
       "      <td>1</td>\n",
       "    </tr>\n",
       "    <tr>\n",
       "      <th>552440</th>\n",
       "      <td>2.0</td>\n",
       "      <td>3</td>\n",
       "      <td>2</td>\n",
       "      <td>2</td>\n",
       "    </tr>\n",
       "  </tbody>\n",
       "</table>\n",
       "</div>"
      ],
      "text/plain": [
       "        DAJCCSTG DSS2000S SUMM2K HST_STGA\n",
       "367221       1.0        1      1        1\n",
       "344154       2.0        1      1        1\n",
       "109012       NaN               0        0\n",
       "469854       NaN               0        0\n",
       "322308       NaN               1        1\n",
       "173468       2.0        1      1        1\n",
       "318596       NaN               1        1\n",
       "452753       NaN        9      9        9\n",
       "405962       NaN               2        2\n",
       "179429       1.0        1      1        1\n",
       "1236         1.0        1      1        1\n",
       "299841       NaN               1        1\n",
       "100007       NaN               1        1\n",
       "314452       NaN               1        1\n",
       "275784       NaN               1        1\n",
       "350327       1.0        1      1        1\n",
       "5437         3.0        3      2        2\n",
       "462391       NaN               0        0\n",
       "98776        1.0        1      1        1\n",
       "552440       2.0        3      2        2"
      ]
     },
     "execution_count": 19,
     "metadata": {},
     "output_type": "execute_result"
    }
   ],
   "source": [
    "df3[['DAJCCSTG','DSS2000S','SUMM2K','HST_STGA']].sample(20)"
   ]
  },
  {
   "cell_type": "code",
   "execution_count": 21,
   "metadata": {},
   "outputs": [
    {
     "data": {
      "text/plain": [
       "8356"
      ]
     },
     "execution_count": 21,
     "metadata": {},
     "output_type": "execute_result"
    }
   ],
   "source": [
    "len(df3[df3['SUMM2K'] != df3['HST_STGA']])"
   ]
  },
  {
   "cell_type": "code",
   "execution_count": 24,
   "metadata": {},
   "outputs": [
    {
     "data": {
      "text/html": [
       "<div>\n",
       "<style scoped>\n",
       "    .dataframe tbody tr th:only-of-type {\n",
       "        vertical-align: middle;\n",
       "    }\n",
       "\n",
       "    .dataframe tbody tr th {\n",
       "        vertical-align: top;\n",
       "    }\n",
       "\n",
       "    .dataframe thead th {\n",
       "        text-align: right;\n",
       "    }\n",
       "</style>\n",
       "<table border=\"1\" class=\"dataframe\">\n",
       "  <thead>\n",
       "    <tr style=\"text-align: right;\">\n",
       "      <th></th>\n",
       "      <th>SUMM2K</th>\n",
       "      <th>HST_STGA</th>\n",
       "    </tr>\n",
       "  </thead>\n",
       "  <tbody>\n",
       "    <tr>\n",
       "      <th>146496</th>\n",
       "      <td>2</td>\n",
       "      <td>4</td>\n",
       "    </tr>\n",
       "    <tr>\n",
       "      <th>538062</th>\n",
       "      <td>7</td>\n",
       "      <td>4</td>\n",
       "    </tr>\n",
       "    <tr>\n",
       "      <th>494844</th>\n",
       "      <td>7</td>\n",
       "      <td>4</td>\n",
       "    </tr>\n",
       "    <tr>\n",
       "      <th>397307</th>\n",
       "      <td>7</td>\n",
       "      <td>4</td>\n",
       "    </tr>\n",
       "    <tr>\n",
       "      <th>148806</th>\n",
       "      <td>7</td>\n",
       "      <td>4</td>\n",
       "    </tr>\n",
       "    <tr>\n",
       "      <th>428403</th>\n",
       "      <td>2</td>\n",
       "      <td>4</td>\n",
       "    </tr>\n",
       "    <tr>\n",
       "      <th>400739</th>\n",
       "      <td>2</td>\n",
       "      <td>4</td>\n",
       "    </tr>\n",
       "    <tr>\n",
       "      <th>69981</th>\n",
       "      <td>7</td>\n",
       "      <td>4</td>\n",
       "    </tr>\n",
       "    <tr>\n",
       "      <th>324767</th>\n",
       "      <td>2</td>\n",
       "      <td>4</td>\n",
       "    </tr>\n",
       "    <tr>\n",
       "      <th>82670</th>\n",
       "      <td>7</td>\n",
       "      <td>4</td>\n",
       "    </tr>\n",
       "  </tbody>\n",
       "</table>\n",
       "</div>"
      ],
      "text/plain": [
       "       SUMM2K HST_STGA\n",
       "146496      2        4\n",
       "538062      7        4\n",
       "494844      7        4\n",
       "397307      7        4\n",
       "148806      7        4\n",
       "428403      2        4\n",
       "400739      2        4\n",
       "69981       7        4\n",
       "324767      2        4\n",
       "82670       7        4"
      ]
     },
     "execution_count": 24,
     "metadata": {},
     "output_type": "execute_result"
    }
   ],
   "source": [
    "df3[df3['SUMM2K'] != df3['HST_STGA']][['SUMM2K','HST_STGA']].sample(10)"
   ]
  },
  {
   "cell_type": "markdown",
   "metadata": {},
   "source": [
    "Use Historic Stage"
   ]
  }
 ],
 "metadata": {
  "kernelspec": {
   "display_name": "Python 3",
   "language": "python",
   "name": "python3"
  },
  "language_info": {
   "codemirror_mode": {
    "name": "ipython",
    "version": 3
   },
   "file_extension": ".py",
   "mimetype": "text/x-python",
   "name": "python",
   "nbconvert_exporter": "python",
   "pygments_lexer": "ipython3",
   "version": "3.6.6"
  }
 },
 "nbformat": 4,
 "nbformat_minor": 2
}
