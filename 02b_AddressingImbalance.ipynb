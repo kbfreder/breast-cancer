{
 "cells": [
  {
   "cell_type": "code",
   "execution_count": 1,
   "metadata": {},
   "outputs": [
    {
     "name": "stderr",
     "output_type": "stream",
     "text": [
      "/Users/kendra/anaconda3/lib/python3.6/site-packages/sklearn/utils/fixes.py:313: FutureWarning: numpy not_equal will not check object identity in the future. The comparison did not return the same result as suggested by the identity (`is`)) and will change.\n",
      "  _nan_object_mask = _nan_object_array != _nan_object_array\n"
     ]
    }
   ],
   "source": [
    "import pandas as pd\n",
    "import pipeline as p\n",
    "import assess_clf_models as acm\n",
    "%load_ext autoreload\n",
    "%autoreload 2\n",
    "\n",
    "import matplotlib.pyplot as plt\n",
    "import seaborn as sns\n",
    "\n",
    "import numpy as np"
   ]
  },
  {
   "cell_type": "code",
   "execution_count": 2,
   "metadata": {},
   "outputs": [],
   "source": [
    "from sklearn.linear_model import LogisticRegression\n",
    "from sklearn.tree import DecisionTreeClassifier\n",
    "from sklearn.ensemble import AdaBoostClassifier\n",
    "from sklearn.naive_bayes import GaussianNB\n",
    "from sklearn.ensemble import GradientBoostingClassifier\n",
    "from sklearn.ensemble import RandomForestClassifier\n",
    "\n",
    "# from sklearn.model_selection import train_test_split\n",
    "from sklearn.model_selection import RandomizedSearchCV, #GridSearchCV\n",
    "\n",
    "from sklearn.pipeline import Pipeline\n",
    "\n",
    "from imblearn.under_sampling import RandomUnderSampler, TomekLinks, EditedNearestNeighbours, NeighbourhoodCleaningRule\n",
    "from imblearn.under_sampling import NearMiss\n",
    "from imblearn.under_sampling import CondensedNearestNeighbour, OneSidedSelection, InstanceHardnessThreshold\n",
    "from imblearn.over_sampling import SMOTE, ADASYN, SVMSMOTE\n",
    "from imblearn.under_sampling import ClusterCentroids, NearMiss, TomekLinks\n",
    "from imblearn.combine import SMOTETomek, SMOTEENN\n",
    "from imblearn.ensemble import BalancedBaggingClassifier, RUSBoostClassifier, EasyEnsembleClassifier\n",
    "from imblearn.combine import SMOTEENN, SMOTETomek\n",
    "\n",
    "from collections import defaultdict\n",
    "\n",
    "import warnings\n",
    "from sklearn.exceptions import DataConversionWarning\n",
    "warnings.filterwarnings(action='ignore', category=DataConversionWarning)"
   ]
  },
  {
   "cell_type": "code",
   "execution_count": 4,
   "metadata": {},
   "outputs": [],
   "source": [
    "seed = 19"
   ]
  },
  {
   "cell_type": "markdown",
   "metadata": {},
   "source": [
    "#### Load & Prep data"
   ]
  },
  {
   "cell_type": "code",
   "execution_count": 5,
   "metadata": {},
   "outputs": [],
   "source": [
    "X_train = p.open_pkl('Data/X_train_unprocessed.pkl')\n",
    "y_train = p.open_pkl('Data/y_train_unprocessed.pkl')"
   ]
  },
  {
   "cell_type": "code",
   "execution_count": 8,
   "metadata": {},
   "outputs": [],
   "source": [
    "preprocessor = p.open_pkl('Data/preprocess_wo_sub.pkl')"
   ]
  },
  {
   "cell_type": "markdown",
   "metadata": {},
   "source": [
    "**Focus on Models**:\n",
    "- Logistic Regression \n",
    "- Gradient Boost\n",
    "- AdaBoost"
   ]
  },
  {
   "cell_type": "markdown",
   "metadata": {},
   "source": [
    "### Base performance of models:"
   ]
  },
  {
   "cell_type": "code",
   "execution_count": 11,
   "metadata": {},
   "outputs": [],
   "source": [
    "log_reg = LogisticRegression(solver='liblinear')"
   ]
  },
  {
   "cell_type": "code",
   "execution_count": 12,
   "metadata": {},
   "outputs": [
    {
     "data": {
      "text/plain": [
       "0.73330146243373451"
      ]
     },
     "execution_count": 12,
     "metadata": {},
     "output_type": "execute_result"
    }
   ],
   "source": [
    "baseline_auc = acm.assess_preproc_model_auc(preprocessor, log_reg, X_train, y_train)\n",
    "baseline_auc"
   ]
  },
  {
   "cell_type": "code",
   "execution_count": 13,
   "metadata": {},
   "outputs": [
    {
     "data": {
      "text/plain": [
       "0.75407568057647445"
      ]
     },
     "execution_count": 13,
     "metadata": {},
     "output_type": "execute_result"
    }
   ],
   "source": [
    "grad_boost = GradientBoostingClassifier()\n",
    "grad_boost_auc = acm.assess_preproc_model_auc(preprocessor, grad_boost, X_train, y_train)\n",
    "grad_boost_auc"
   ]
  },
  {
   "cell_type": "code",
   "execution_count": 14,
   "metadata": {},
   "outputs": [
    {
     "data": {
      "text/plain": [
       "0.57114547512503366"
      ]
     },
     "execution_count": 14,
     "metadata": {},
     "output_type": "execute_result"
    }
   ],
   "source": [
    "ada = AdaBoostClassifier(base_estimator=DecisionTreeClassifier())\n",
    "ada_auc = acm.assess_preproc_model_auc(preprocessor, ada, X_train, y_train)\n",
    "ada_auc"
   ]
  },
  {
   "cell_type": "code",
   "execution_count": 15,
   "metadata": {},
   "outputs": [
    {
     "data": {
      "text/plain": [
       "0.66276915828054239"
      ]
     },
     "execution_count": 15,
     "metadata": {},
     "output_type": "execute_result"
    }
   ],
   "source": [
    "rand_for = RandomForestClassifier(n_estimators=10)\n",
    "rf_auc = acm.assess_preproc_model_auc(preprocessor, rand_for, X_train, y_train)"
   ]
  },
  {
   "cell_type": "code",
   "execution_count": 25,
   "metadata": {},
   "outputs": [],
   "source": [
    "rf_auc = 0.66276915828054239"
   ]
  },
  {
   "cell_type": "code",
   "execution_count": 16,
   "metadata": {},
   "outputs": [
    {
     "data": {
      "text/plain": [
       "0.7144980627741957"
      ]
     },
     "execution_count": 16,
     "metadata": {},
     "output_type": "execute_result"
    }
   ],
   "source": [
    "nb = GaussianNB()\n",
    "nb_auc = acm.assess_preproc_model_auc(preprocessor, nb, X_train, y_train)"
   ]
  },
  {
   "cell_type": "code",
   "execution_count": 26,
   "metadata": {},
   "outputs": [],
   "source": [
    "nb_auc = 0.7144980627741957"
   ]
  },
  {
   "cell_type": "markdown",
   "metadata": {},
   "source": [
    "ComplementNB, MultinomialNB did not perform any better"
   ]
  },
  {
   "cell_type": "code",
   "execution_count": 55,
   "metadata": {},
   "outputs": [],
   "source": [
    "base_scores = [[\"lr\", baseline_auc], ['gb', grad_boost_auc], ['ada', ada_auc], ['rf',rf_auc],['nb',nb_auc]]"
   ]
  },
  {
   "cell_type": "markdown",
   "metadata": {},
   "source": [
    "## Addressing Imbalance"
   ]
  },
  {
   "cell_type": "markdown",
   "metadata": {},
   "source": [
    "### Weighting"
   ]
  },
  {
   "cell_type": "code",
   "execution_count": 21,
   "metadata": {},
   "outputs": [],
   "source": [
    "def assess_model_auc_no_strat(preprocessor, model, X, y, n=5):\n",
    "    pipe =  Pipeline(steps=[('preprocessor', preprocessor), ('classifier', model)])\n",
    "#     cv = StratifiedKFold(n_splits=n, random_state=seed)\n",
    "    scores = cross_validate(model, X, y, cv=n, scoring='roc_auc', n_jobs=-1,\n",
    "                            return_train_score=False)\n",
    "    return np.mean(scores['test_score'])"
   ]
  },
  {
   "cell_type": "code",
   "execution_count": 23,
   "metadata": {},
   "outputs": [
    {
     "data": {
      "text/plain": [
       "0.73474849145635857"
      ]
     },
     "execution_count": 23,
     "metadata": {},
     "output_type": "execute_result"
    }
   ],
   "source": [
    "# Note: sag & saga solvers did not converge\n",
    "log_reg2 = LogisticRegression(class_weight='balanced', solver='liblinear')\n",
    "lr2_auc = assess_model_auc_no_strat(preprocessor, log_reg2, X_train, y_train)\n",
    "lr2_auc"
   ]
  },
  {
   "cell_type": "markdown",
   "metadata": {},
   "source": [
    "### Over-sampling"
   ]
  },
  {
   "cell_type": "code",
   "execution_count": 27,
   "metadata": {},
   "outputs": [],
   "source": [
    "resamp_list = []"
   ]
  },
  {
   "cell_type": "code",
   "execution_count": 38,
   "metadata": {},
   "outputs": [],
   "source": [
    "model_lib = {'lr':LogisticRegression(solver='liblinear'),\n",
    "                 'gb': GradientBoostingClassifier(),\n",
    "#                  'nb': GaussianNB()} # nb wasn't playing nice with the  pipeline & re-sampling. \n",
    "             'rf': RandomForestClassifier()}"
   ]
  },
  {
   "cell_type": "markdown",
   "metadata": {},
   "source": [
    "**Smote**"
   ]
  },
  {
   "cell_type": "code",
   "execution_count": 41,
   "metadata": {},
   "outputs": [
    {
     "name": "stderr",
     "output_type": "stream",
     "text": [
      "/Users/kendra/anaconda3/lib/python3.6/site-packages/sklearn/ensemble/forest.py:248: FutureWarning: The default value of n_estimators will change from 10 in version 0.20 to 100 in 0.22.\n",
      "  \"10 in version 0.20 to 100 in 0.22.\", FutureWarning)\n"
     ]
    }
   ],
   "source": [
    "# Synthetic Minority Oversampling TEchnique\n",
    "res = SMOTE(random_state=seed)\n",
    "resamp_list.append([\"Smote\", acm.assess_all_models_with_resamp(preprocessor, model_lib, res, X_train, y_train)])"
   ]
  },
  {
   "cell_type": "markdown",
   "metadata": {},
   "source": [
    "**ADASYN**"
   ]
  },
  {
   "cell_type": "code",
   "execution_count": 42,
   "metadata": {},
   "outputs": [],
   "source": [
    "# ADAptive SYNthetic\n",
    "res = ADASYN(random_state=seed)\n",
    "resamp_list.append([\"ADASYN\", acm.assess_all_models_with_resamp(preprocessor, model_lib, res, X_train, y_train)])"
   ]
  },
  {
   "cell_type": "markdown",
   "metadata": {},
   "source": [
    "### Under Sampling"
   ]
  },
  {
   "cell_type": "markdown",
   "metadata": {},
   "source": [
    "**Random Under Sampling**"
   ]
  },
  {
   "cell_type": "code",
   "execution_count": 43,
   "metadata": {},
   "outputs": [],
   "source": [
    "# self-explanatory\n",
    "res = RandomUnderSampler(random_state=seed)\n",
    "resamp_list.append([\"Random Under\", acm.assess_all_models_with_resamp(preprocessor, model_lib, res, X_train, y_train)])"
   ]
  },
  {
   "cell_type": "markdown",
   "metadata": {},
   "source": [
    "**Editied Nearest Neighbors**"
   ]
  },
  {
   "cell_type": "code",
   "execution_count": 44,
   "metadata": {},
   "outputs": [],
   "source": [
    "# applies a nearest-neighbors algorithm and removing samples which do not agree “enough” with their neighboorhood \n",
    "res = EditedNearestNeighbours(random_state=seed)\n",
    "resamp_list.append([\"ENN\", acm.assess_all_models_with_resamp(preprocessor, model_lib, res, X_train, y_train)])"
   ]
  },
  {
   "cell_type": "markdown",
   "metadata": {},
   "source": [
    "ClusterCentroids was very slow."
   ]
  },
  {
   "cell_type": "markdown",
   "metadata": {},
   "source": [
    "**NearMiss**\n",
    "\n",
    "*applies heuristic rules based on nearest neighbors. keeps majority points that are closest to...*"
   ]
  },
  {
   "cell_type": "markdown",
   "metadata": {},
   "source": [
    "NearMiss1: the N-closest minority points"
   ]
  },
  {
   "cell_type": "code",
   "execution_count": 45,
   "metadata": {},
   "outputs": [],
   "source": [
    "res = NearMiss(random_state=seed, version=1)\n",
    "resamp_list.append([\"Near Miss 1\", acm.assess_all_models_with_resamp(preprocessor, model_lib, res, X_train, y_train)])"
   ]
  },
  {
   "cell_type": "markdown",
   "metadata": {},
   "source": [
    "NearMiss2 was slow\n",
    "\n",
    "NearMiss3: the majority of minority points. Least sesnsitive to noise"
   ]
  },
  {
   "cell_type": "code",
   "execution_count": 46,
   "metadata": {},
   "outputs": [],
   "source": [
    "res = NearMiss(random_state=seed, version=3)\n",
    "resamp_list.append([\"Near Miss 3\", acm.assess_all_models_with_resamp(preprocessor, model_lib, res, X_train, y_train)])"
   ]
  },
  {
   "cell_type": "markdown",
   "metadata": {},
   "source": [
    "**Cleaning**"
   ]
  },
  {
   "cell_type": "markdown",
   "metadata": {},
   "source": [
    "Condensed Nearest Neighbor was slow"
   ]
  },
  {
   "cell_type": "markdown",
   "metadata": {},
   "source": [
    "Neighborhood Cleaning Rule"
   ]
  },
  {
   "cell_type": "code",
   "execution_count": 47,
   "metadata": {},
   "outputs": [],
   "source": [
    "res = NeighbourhoodCleaningRule(random_state=seed)\n",
    "resamp_list.append([\"NCC\", acm.assess_all_models_with_resamp(preprocessor, model_lib, res, X_train, y_train)])"
   ]
  },
  {
   "cell_type": "markdown",
   "metadata": {},
   "source": [
    "One Sided Selection"
   ]
  },
  {
   "cell_type": "code",
   "execution_count": 48,
   "metadata": {},
   "outputs": [],
   "source": [
    "res = OneSidedSelection(random_state=seed)\n",
    "resamp_list.append([\"One Sided Cleaning\", acm.assess_all_models_with_resamp(preprocessor, model_lib, res, X_train, y_train)])"
   ]
  },
  {
   "cell_type": "markdown",
   "metadata": {},
   "source": [
    "**Tomek Links**"
   ]
  },
  {
   "cell_type": "code",
   "execution_count": 49,
   "metadata": {},
   "outputs": [],
   "source": [
    "res = TomekLinks(random_state=seed, n_jobs=-1)\n",
    "resamp_list.append([\"Tomek\", acm.assess_all_models_with_resamp(preprocessor, model_lib, res, X_train, y_train)])"
   ]
  },
  {
   "cell_type": "markdown",
   "metadata": {},
   "source": [
    "### Combination Over/Under Sampling"
   ]
  },
  {
   "cell_type": "code",
   "execution_count": 50,
   "metadata": {},
   "outputs": [],
   "source": [
    "from imblearn.combine import SMOTEENN, SMOTETomek"
   ]
  },
  {
   "cell_type": "markdown",
   "metadata": {},
   "source": [
    "SMOTE + EEN"
   ]
  },
  {
   "cell_type": "code",
   "execution_count": 51,
   "metadata": {},
   "outputs": [],
   "source": [
    "res = SMOTEENN(random_state=seed)\n",
    "resamp_list.append([\"SMOTE + ENN\", acm.assess_all_models_with_resamp(preprocessor, model_lib, res, X_train, y_train)])"
   ]
  },
  {
   "cell_type": "markdown",
   "metadata": {},
   "source": [
    "SMOTE + Tomek"
   ]
  },
  {
   "cell_type": "code",
   "execution_count": 52,
   "metadata": {},
   "outputs": [],
   "source": [
    "res = SMOTETomek(random_state=seed)\n",
    "resamp_list.append([\"SMOTE + Tomek\", acm.assess_all_models_with_resamp(preprocessor, model_lib, res, X_train, y_train)])"
   ]
  },
  {
   "cell_type": "markdown",
   "metadata": {},
   "source": [
    "### Compare:"
   ]
  },
  {
   "cell_type": "code",
   "execution_count": 56,
   "metadata": {},
   "outputs": [
    {
     "data": {
      "text/plain": [
       "[['lr', 0.73330146243373451],\n",
       " ['gb', 0.75407568057647445],\n",
       " ['ada', 0.57114547512503366],\n",
       " ['rf', 0.6627691582805424],\n",
       " ['nb', 0.7144980627741957]]"
      ]
     },
     "execution_count": 56,
     "metadata": {},
     "output_type": "execute_result"
    }
   ],
   "source": [
    "base_scores"
   ]
  },
  {
   "cell_type": "code",
   "execution_count": 53,
   "metadata": {},
   "outputs": [
    {
     "data": {
      "text/plain": [
       "[['Smote',\n",
       "  defaultdict(list,\n",
       "              {'lr': 0.73269128361652858,\n",
       "               'gb': 0.73907751653368658,\n",
       "               'rf': 0.57182193507513579})],\n",
       " ['ADASYN',\n",
       "  defaultdict(list,\n",
       "              {'lr': 0.73217064014652899,\n",
       "               'gb': 0.73470929863486545,\n",
       "               'rf': 0.55400473594798605})],\n",
       " ['Random Under',\n",
       "  defaultdict(list,\n",
       "              {'lr': 0.73496864118046057,\n",
       "               'gb': 0.75389938893481412,\n",
       "               'rf': 0.67355597078574747})],\n",
       " ['ENN',\n",
       "  defaultdict(list,\n",
       "              {'lr': 0.73467654458601717,\n",
       "               'gb': 0.75242067245220523,\n",
       "               'rf': 0.70550866475275009})],\n",
       " ['Near Miss 1',\n",
       "  defaultdict(list,\n",
       "              {'lr': 0.68378030743443141,\n",
       "               'gb': 0.65979990962608182,\n",
       "               'rf': 0.63034909966596475})],\n",
       " ['Near Miss 3',\n",
       "  defaultdict(list,\n",
       "              {'lr': 0.5931810037376708,\n",
       "               'gb': 0.54998075985713291,\n",
       "               'rf': 0.55660323612216511})],\n",
       " ['NCC',\n",
       "  defaultdict(list,\n",
       "              {'lr': 0.73392705545736359,\n",
       "               'gb': 0.75267314280135178,\n",
       "               'rf': 0.69863361786700273})],\n",
       " ['One Sided Cleaning',\n",
       "  defaultdict(list,\n",
       "              {'lr': 0.73333433994537067,\n",
       "               'gb': 0.75312988745088005,\n",
       "               'rf': 0.68495573996334647})],\n",
       " ['Tomek',\n",
       "  defaultdict(list,\n",
       "              {'lr': 0.73334805005206238,\n",
       "               'gb': 0.75328140177553116,\n",
       "               'rf': 0.68696295287347597})],\n",
       " ['SMOTE + ENN',\n",
       "  defaultdict(list,\n",
       "              {'lr': 0.73423491655650319,\n",
       "               'gb': 0.74884773232613022,\n",
       "               'rf': 0.62797449675086092})],\n",
       " ['SMOTE + Tomek',\n",
       "  defaultdict(list,\n",
       "              {'lr': 0.73293590925547769,\n",
       "               'gb': 0.74034312239696087,\n",
       "               'rf': 0.5704405144006095})]]"
      ]
     },
     "execution_count": 53,
     "metadata": {},
     "output_type": "execute_result"
    }
   ],
   "source": [
    "resamp_list"
   ]
  },
  {
   "cell_type": "markdown",
   "metadata": {},
   "source": [
    "### Ensemble of samplers"
   ]
  },
  {
   "cell_type": "markdown",
   "metadata": {},
   "source": [
    "Combines:\n",
    "- EasyEnsemble: iteratively applies random under-sampling\n",
    "- ensemble of Classifiers (default = DecisionTree)\n",
    "- balances subsets before training"
   ]
  },
  {
   "cell_type": "code",
   "execution_count": 58,
   "metadata": {},
   "outputs": [
    {
     "data": {
      "text/plain": [
       "0.67951965607208575"
      ]
     },
     "execution_count": 58,
     "metadata": {},
     "output_type": "execute_result"
    }
   ],
   "source": [
    "bbc = BalancedBaggingClassifier(base_estimator=DecisionTreeClassifier(), \n",
    "                                random_state=seed, n_jobs=-1, replacement=True)\n",
    "\n",
    "acm.assess_preproc_model_auc(preprocessor, bbc, X_train, y_train)"
   ]
  },
  {
   "cell_type": "code",
   "execution_count": 59,
   "metadata": {},
   "outputs": [
    {
     "data": {
      "text/plain": [
       "0.75446790745776027"
      ]
     },
     "execution_count": 59,
     "metadata": {},
     "output_type": "execute_result"
    }
   ],
   "source": [
    "bbc2 = BalancedBaggingClassifier(base_estimator=GradientBoostingClassifier(), \n",
    "                                 random_state=seed, n_jobs=-1, replacement=True)\n",
    "\n",
    "acm.assess_preproc_model_auc(preprocessor, bbc2, X_train, y_train)"
   ]
  },
  {
   "cell_type": "code",
   "execution_count": 61,
   "metadata": {},
   "outputs": [
    {
     "data": {
      "text/plain": [
       "0.71484724339663985"
      ]
     },
     "execution_count": 61,
     "metadata": {},
     "output_type": "execute_result"
    }
   ],
   "source": [
    "bbc3 = BalancedBaggingClassifier(base_estimator=GaussianNB(), \n",
    "                                 random_state=seed, n_jobs=-1, replacement=True)\n",
    "\n",
    "acm.assess_preproc_model_auc(preprocessor, bbc3, X_train, y_train)"
   ]
  },
  {
   "cell_type": "markdown",
   "metadata": {},
   "source": [
    "## Conclusions"
   ]
  },
  {
   "cell_type": "markdown",
   "metadata": {},
   "source": [
    "The baseline models performed as well as models incorporating over/under sampling"
   ]
  }
 ],
 "metadata": {
  "kernelspec": {
   "display_name": "Python 3",
   "language": "python",
   "name": "python3"
  },
  "language_info": {
   "codemirror_mode": {
    "name": "ipython",
    "version": 3
   },
   "file_extension": ".py",
   "mimetype": "text/x-python",
   "name": "python",
   "nbconvert_exporter": "python",
   "pygments_lexer": "ipython3",
   "version": "3.6.6"
  }
 },
 "nbformat": 4,
 "nbformat_minor": 2
}
