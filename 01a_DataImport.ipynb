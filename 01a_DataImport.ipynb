{
 "cells": [
  {
   "cell_type": "code",
   "execution_count": 1,
   "metadata": {},
   "outputs": [
    {
     "data": {
      "text/plain": [
       "'925000100000001544102 020491958   00022008C50228500385003211        0126                       0501002500001002000198798703098820110033331  0104000205500205505590   0         01             210     260001742C502      1161023 09980132202        134005    260002600040236991033011258                   00761     2            20100033         99     8          0100'"
      ]
     },
     "execution_count": 1,
     "metadata": {},
     "output_type": "execute_result"
    }
   ],
   "source": [
    "import pandas as pd\n",
    "import matplotlib.pyplot as plt\n",
    "\n",
    "import pipeline as p\n",
    "%load_ext autoreload\n",
    "%autoreload 2\n",
    "\n",
    "# f = \"Data/SEER_1973_2015_TEXTDATA/incidence/yr2000_2015.ca_ky_lo_nj_ga/BREAST.TXT\"\n",
    "f = \"Data/BREAST.TXT\"\n",
    "df = pd.read_csv(f, header=None)\n",
    "\n",
    "# f2 = \"Data/SEER_1973_2015_TEXTDATA/incidence/yr2005.lo_2nd_half/BREAST.TXT\"\n",
    "f2 = \"Data/BREAST2.TXT\"\n",
    "df2 = pd.read_csv(f2, header=None)\n",
    "\n",
    "df = pd.concat([df, df2])\n",
    "\n",
    "df.iloc[1,0]"
   ]
  },
  {
   "cell_type": "code",
   "execution_count": 4,
   "metadata": {},
   "outputs": [],
   "source": [
    "# f_sas = \"Data/SEER_1973_2015_TEXTDATA/incidence/read.seer.research.nov17.sas\"\n",
    "f_sas = \"Data/read.seer.research.nov17.sas\"\n",
    "\n",
    "\n",
    "f_list = []\n",
    "with open(f_sas) as f:\n",
    "    for line in f:\n",
    "        f_list.append(line.strip())\n",
    "\n",
    "decode = []\n",
    "col_names = []\n",
    "col_descr_dict = {}\n",
    "for x in f_list:\n",
    "    if x.startswith('@'):\n",
    "        start = int(x[2:5])\n",
    "        str_len = int(x.split('char')[1][:2].strip('.'))\n",
    "        var_name = x[6:26].strip()\n",
    "        col_names.append(var_name)\n",
    "        descr = x.split('*')[1]\n",
    "        descr = descr.strip()\n",
    "        \n",
    "        decode.append([start, str_len, var_name, descr])\n",
    "        col_descr_dict[descr.upper()] = var_name\n",
    "        \n",
    "\n",
    "df_data = []\n",
    "\n",
    "for j in range(0,len(df)):\n",
    "    entry_list = []\n",
    "    entry = df.iloc[j,0]\n",
    "    for i in range(len(decode)):\n",
    "        start = decode[i][0]\n",
    "        str_len = decode[i][1]\n",
    "        entry_list.append(entry[start-1:start+str_len-1])\n",
    "    df_data.append(entry_list)\n",
    "\n",
    "df3 = pd.DataFrame(data=df_data, columns=col_names)"
   ]
  },
  {
   "cell_type": "code",
   "execution_count": 5,
   "metadata": {},
   "outputs": [
    {
     "data": {
      "text/html": [
       "<div>\n",
       "<style scoped>\n",
       "    .dataframe tbody tr th:only-of-type {\n",
       "        vertical-align: middle;\n",
       "    }\n",
       "\n",
       "    .dataframe tbody tr th {\n",
       "        vertical-align: top;\n",
       "    }\n",
       "\n",
       "    .dataframe thead th {\n",
       "        text-align: right;\n",
       "    }\n",
       "</style>\n",
       "<table border=\"1\" class=\"dataframe\">\n",
       "  <thead>\n",
       "    <tr style=\"text-align: right;\">\n",
       "      <th></th>\n",
       "      <th>PUBCSNUM</th>\n",
       "      <th>REG</th>\n",
       "      <th>MAR_STAT</th>\n",
       "      <th>RACE1V</th>\n",
       "      <th>NHIADE</th>\n",
       "      <th>SEX</th>\n",
       "      <th>AGE_DX</th>\n",
       "      <th>YR_BRTH</th>\n",
       "      <th>SEQ_NUM</th>\n",
       "      <th>MDXRECMP</th>\n",
       "    </tr>\n",
       "  </thead>\n",
       "  <tbody>\n",
       "    <tr>\n",
       "      <th>0</th>\n",
       "      <td>92500005</td>\n",
       "      <td>0000001544</td>\n",
       "      <td>2</td>\n",
       "      <td>01</td>\n",
       "      <td>0</td>\n",
       "      <td>2</td>\n",
       "      <td>045</td>\n",
       "      <td>1962</td>\n",
       "      <td>00</td>\n",
       "      <td>01</td>\n",
       "    </tr>\n",
       "    <tr>\n",
       "      <th>1</th>\n",
       "      <td>92500010</td>\n",
       "      <td>0000001544</td>\n",
       "      <td>1</td>\n",
       "      <td>02</td>\n",
       "      <td>0</td>\n",
       "      <td>2</td>\n",
       "      <td>049</td>\n",
       "      <td>1958</td>\n",
       "      <td>00</td>\n",
       "      <td>02</td>\n",
       "    </tr>\n",
       "  </tbody>\n",
       "</table>\n",
       "</div>"
      ],
      "text/plain": [
       "   PUBCSNUM         REG MAR_STAT RACE1V NHIADE SEX AGE_DX YR_BRTH SEQ_NUM  \\\n",
       "0  92500005  0000001544        2     01      0   2    045    1962      00   \n",
       "1  92500010  0000001544        1     02      0   2    049    1958      00   \n",
       "\n",
       "  MDXRECMP  \n",
       "0       01  \n",
       "1       02  "
      ]
     },
     "execution_count": 5,
     "metadata": {},
     "output_type": "execute_result"
    }
   ],
   "source": [
    "df3.iloc[:2, :10]"
   ]
  },
  {
   "cell_type": "code",
   "execution_count": 6,
   "metadata": {},
   "outputs": [
    {
     "data": {
      "text/plain": [
       "(592051, 133)"
      ]
     },
     "execution_count": 6,
     "metadata": {},
     "output_type": "execute_result"
    }
   ],
   "source": [
    "df3.shape"
   ]
  },
  {
   "cell_type": "code",
   "execution_count": 16,
   "metadata": {},
   "outputs": [],
   "source": [
    "p.pkl_this('Data/breast_2000-2015_df.pkl', df3)\n",
    "p.pkl_this('Data/col_descr_dict.pkl', col_descr_dict)"
   ]
  },
  {
   "cell_type": "code",
   "execution_count": null,
   "metadata": {},
   "outputs": [],
   "source": []
  }
 ],
 "metadata": {
  "kernelspec": {
   "display_name": "Python 3",
   "language": "python",
   "name": "python3"
  },
  "language_info": {
   "codemirror_mode": {
    "name": "ipython",
    "version": 3
   },
   "file_extension": ".py",
   "mimetype": "text/x-python",
   "name": "python",
   "nbconvert_exporter": "python",
   "pygments_lexer": "ipython3",
   "version": "3.6.6"
  }
 },
 "nbformat": 4,
 "nbformat_minor": 2
}
